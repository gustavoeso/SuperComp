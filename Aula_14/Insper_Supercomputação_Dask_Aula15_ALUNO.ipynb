{
  "nbformat": 4,
  "nbformat_minor": 0,
  "metadata": {
    "colab": {
      "provenance": []
    },
    "kernelspec": {
      "name": "python3",
      "display_name": "Python 3"
    },
    "language_info": {
      "name": "python"
    }
  },
  "cells": [
    {
      "cell_type": "markdown",
      "source": [
        "Insper\n",
        "\n",
        "## Supercomputação - Dask\n",
        "\n",
        "## 1. Setup inicial e obtendo os dados"
      ],
      "metadata": {
        "id": "L143lett95pu"
      }
    },
    {
      "cell_type": "code",
      "source": [],
      "metadata": {
        "id": "-F0GrW1L-O32"
      },
      "execution_count": null,
      "outputs": []
    },
    {
      "cell_type": "code",
      "source": [],
      "metadata": {
        "id": "LTZiDdm5-PpN"
      },
      "execution_count": null,
      "outputs": []
    },
    {
      "cell_type": "code",
      "source": [
        "import pandas as pd\n",
        "import numpy as np\n",
        "from dask import delayed\n",
        "from time import sleep"
      ],
      "metadata": {
        "id": "OYeVpfb-sLUw"
      },
      "execution_count": null,
      "outputs": []
    },
    {
      "cell_type": "code",
      "execution_count": null,
      "metadata": {
        "id": "g_FRLb3JpxIh"
      },
      "outputs": [],
      "source": [
        "!wget https://storage.googleapis.com/dask-tutorial-data/nycflights.tar.gz\n",
        "!mkdir data\n",
        "!tar -xvzf nycflights.tar.gz -C data"
      ]
    },
    {
      "cell_type": "code",
      "source": [],
      "metadata": {
        "id": "fHbmv-pRrvkm"
      },
      "execution_count": null,
      "outputs": []
    },
    {
      "cell_type": "markdown",
      "source": [
        "## 1.1 Usando Pandas para obter o maior atraso dentre todos os voos"
      ],
      "metadata": {
        "id": "8KC5Jf33-XRt"
      }
    },
    {
      "cell_type": "code",
      "source": [
        "# Qual é o maior atraso (DepDelay) dentre todos os voos (todos os arquivos)?\n",
        "%%time\n"
      ],
      "metadata": {
        "id": "8sIQDtzNr3nU"
      },
      "execution_count": null,
      "outputs": []
    },
    {
      "cell_type": "markdown",
      "source": [
        "## 2. Usando Dask Delayed para obter o maior atraso dentre todos os voos"
      ],
      "metadata": {
        "id": "_xND18qDsetn"
      }
    },
    {
      "cell_type": "code",
      "source": [
        "# Qual é o maior atraso (DepDelay) dentre todos os voos (todos os arquivos)?\n",
        "%%time\n"
      ],
      "metadata": {
        "id": "hdLd_QDYsdnP"
      },
      "execution_count": null,
      "outputs": []
    },
    {
      "cell_type": "code",
      "source": [
        "final_max.visualize()"
      ],
      "metadata": {
        "id": "Tb0NubbxsDnF"
      },
      "execution_count": null,
      "outputs": []
    },
    {
      "cell_type": "code",
      "source": [
        "%%time\n"
      ],
      "metadata": {
        "id": "Nz9SVWIOsUKs"
      },
      "execution_count": null,
      "outputs": []
    },
    {
      "cell_type": "code",
      "source": [],
      "metadata": {
        "id": "6-zrf1Jd_gRF"
      },
      "execution_count": null,
      "outputs": []
    },
    {
      "cell_type": "markdown",
      "source": [
        "## 3. Usando Dask DataFrames"
      ],
      "metadata": {
        "id": "sV56UiLE_YXd"
      }
    },
    {
      "cell_type": "code",
      "source": [
        "import dask.dataframe as ddf"
      ],
      "metadata": {
        "id": "vU864mU3slTE"
      },
      "execution_count": null,
      "outputs": []
    },
    {
      "cell_type": "code",
      "source": [
        "%%time\n"
      ],
      "metadata": {
        "id": "3xZPJZFZsoY7"
      },
      "execution_count": null,
      "outputs": []
    },
    {
      "cell_type": "code",
      "source": [
        "# Maior atraso?"
      ],
      "metadata": {
        "id": "Fo0qxaHAspmE"
      },
      "execution_count": null,
      "outputs": []
    },
    {
      "cell_type": "code",
      "source": [
        "# Maior atraso por origem?\n"
      ],
      "metadata": {
        "id": "qga0KSPcsrE7"
      },
      "execution_count": null,
      "outputs": []
    },
    {
      "cell_type": "code",
      "source": [],
      "metadata": {
        "id": "nmef5tjNsstT"
      },
      "execution_count": null,
      "outputs": []
    },
    {
      "cell_type": "markdown",
      "source": [
        "Obter os voos não cancelados\n",
        "\n",
        "Obter a média e o desvio padrão dos atrasos dos voos não cancelados"
      ],
      "metadata": {
        "id": "a0FwIWIQsvDT"
      }
    },
    {
      "cell_type": "code",
      "source": [
        "df = ddf.read_csv(\"data/nycflights/*.csv\")"
      ],
      "metadata": {
        "id": "7Z6uoHMl5szf"
      },
      "execution_count": null,
      "outputs": []
    },
    {
      "cell_type": "code",
      "source": [
        "# Primeiras linhas\n",
        "df.head()"
      ],
      "metadata": {
        "id": "VrQZ4xE06FeH"
      },
      "execution_count": null,
      "outputs": []
    },
    {
      "cell_type": "code",
      "source": [
        "# Últimas linhas\n",
        "df.tail()"
      ],
      "metadata": {
        "id": "8Ho_fIVF5trm"
      },
      "execution_count": null,
      "outputs": []
    },
    {
      "cell_type": "markdown",
      "source": [
        "\n",
        "Ao contrário do pandas.read_csv, que lê o arquivo inteiro antes de inferir os tipos de dados, dask.dataframe.read_csv lê apenas uma amostra do início do arquivo (ou do primeiro arquivo, se estiver usando um glob). Esses tipos de dados inferidos são então aplicados ao ler todas as partições."
      ],
      "metadata": {
        "id": "bcsKylWl5ua-"
      }
    },
    {
      "cell_type": "code",
      "source": [
        "df = ddf.read_csv(\"data/nycflights/*.csv\",\n",
        "                  dtype = {\"TailNum\": str,\n",
        "                           \"CRSElapsedTime\": float,\n",
        "                           \"Cancelled\": bool})"
      ],
      "metadata": {
        "id": "svGpok2IsvZ8"
      },
      "execution_count": null,
      "outputs": []
    },
    {
      "cell_type": "code",
      "source": [],
      "metadata": {
        "id": "jPuiXMXEswhz"
      },
      "execution_count": null,
      "outputs": []
    },
    {
      "cell_type": "code",
      "source": [],
      "metadata": {
        "id": "QJLCBuNGsyhE"
      },
      "execution_count": null,
      "outputs": []
    },
    {
      "cell_type": "code",
      "source": [
        "%%time\n"
      ],
      "metadata": {
        "id": "9mQUBJbns1CE"
      },
      "execution_count": null,
      "outputs": []
    },
    {
      "cell_type": "code",
      "source": [
        "%%time\n"
      ],
      "metadata": {
        "id": "H7XhqAlPs3ds"
      },
      "execution_count": null,
      "outputs": []
    },
    {
      "cell_type": "code",
      "source": [
        "mean_delay.visualize()"
      ],
      "metadata": {
        "id": "KUlbZHVOs6A8"
      },
      "execution_count": null,
      "outputs": []
    },
    {
      "cell_type": "code",
      "source": [
        "std_delay.visualize()"
      ],
      "metadata": {
        "id": "ev2IRZYss8zs"
      },
      "execution_count": null,
      "outputs": []
    },
    {
      "cell_type": "code",
      "source": [
        "import dask"
      ],
      "metadata": {
        "id": "N8rMeETls-o-"
      },
      "execution_count": null,
      "outputs": []
    },
    {
      "cell_type": "code",
      "source": [],
      "metadata": {
        "id": "zH0TmjtItBWj"
      },
      "execution_count": null,
      "outputs": []
    },
    {
      "cell_type": "code",
      "source": [],
      "metadata": {
        "id": "Wq7yfdZ64h3a"
      },
      "execution_count": null,
      "outputs": []
    },
    {
      "cell_type": "markdown",
      "source": [
        "## 4. Reescrevendo nosso primeiro exemplo com _futures_\n",
        "\n",
        "Uso comum:\n",
        "\n",
        "```python\n",
        "def process_file(filename):\n",
        "    data = read_a_file(filename)\n",
        "    data = do_a_transformation(data)\n",
        "    destination = f\"results/{filename}\"\n",
        "    write_out_data(data, destination)\n",
        "    return destination\n",
        "\n",
        "futures = []\n",
        "for filename in filenames:\n",
        "    future = client.submit(process_file, filename)\n",
        "    futures.append(future)\n",
        "\n",
        "futures\n",
        "\n",
        "```"
      ],
      "metadata": {
        "id": "HlZaJTTpAJde"
      }
    },
    {
      "cell_type": "code",
      "source": [
        "from time import sleep\n",
        "\n",
        "def inc(x):\n",
        "    sleep(1)\n",
        "    return x + 1\n",
        "\n",
        "def double(x):\n",
        "    sleep(2)\n",
        "    return 2 * x\n",
        "\n",
        "def add(x, y):\n",
        "    sleep(1)\n",
        "    return x + y"
      ],
      "metadata": {
        "id": "8pykfHMGANCB"
      },
      "execution_count": null,
      "outputs": []
    },
    {
      "cell_type": "code",
      "source": [
        "# Iniciando um cluster dask com 4 executores\n",
        "from dask.distributed import Client\n",
        "\n"
      ],
      "metadata": {
        "id": "rdu3AY4AAcPR"
      },
      "execution_count": null,
      "outputs": []
    },
    {
      "cell_type": "markdown",
      "source": [
        "Rodando localmente"
      ],
      "metadata": {
        "id": "O1zRdBetAndu"
      }
    },
    {
      "cell_type": "code",
      "source": [],
      "metadata": {
        "id": "F4MtcrnvAfr5"
      },
      "execution_count": null,
      "outputs": []
    },
    {
      "cell_type": "markdown",
      "source": [
        "Ou podemos enviá-los para execução remota com Dask. Isso retorna imediatamente um futuro que aponta para a computação em andamento e, eventualmente, para o resultado armazenado."
      ],
      "metadata": {
        "id": "RrZe4WzKApc1"
      }
    },
    {
      "cell_type": "code",
      "source": [],
      "metadata": {
        "id": "_wbFii7yAlkZ"
      },
      "execution_count": null,
      "outputs": []
    },
    {
      "cell_type": "code",
      "source": [],
      "metadata": {
        "id": "70PiggD0AyFJ"
      },
      "execution_count": null,
      "outputs": []
    },
    {
      "cell_type": "code",
      "source": [
        "# E qual é o resultado?\n"
      ],
      "metadata": {
        "id": "Q9FFyucRA1QB"
      },
      "execution_count": null,
      "outputs": []
    },
    {
      "cell_type": "code",
      "source": [],
      "metadata": {
        "id": "QenNGawtA5D5"
      },
      "execution_count": null,
      "outputs": []
    },
    {
      "cell_type": "code",
      "source": [],
      "metadata": {
        "id": "GSZkxWhGBEop"
      },
      "execution_count": null,
      "outputs": []
    },
    {
      "cell_type": "markdown",
      "source": [
        "**Por que usar Futures?**\n",
        "\n",
        "A API de futuros oferece um estilo de envio de trabalho que pode facilmente emular o paradigma mapear/reduzir. Se isso lhe é familiar, então os futuros podem ser o ponto de entrada mais simples no Dask.\n",
        "\n",
        "O outro grande benefício dos futuros é que os resultados intermediários, representados pelos futuros, podem ser passados para novas tarefas sem a necessidade de extrair dados localmente do cluster. Novas operações podem ser configuradas para trabalhar na produção de trabalhos anteriores que ainda nem começaram."
      ],
      "metadata": {
        "id": "6mdvG-k2BTcH"
      }
    },
    {
      "cell_type": "markdown",
      "source": [
        "## 5. [Exercícios] Cálculos em cima de Dask DataFrames\n",
        "\n",
        "Continue utilizando os arquivos \"data/nycflights/*.csv\". Resolva as seguintes questões:\n",
        "\n",
        "  a. Qual é o atraso Médio na Chegada por Transportadora\n",
        "\n",
        "  b. Top 5 Rotas mais Curtas: rotas com a menor distância média\n",
        "\n",
        "  c. Dias da Semana com Mais Voos\n",
        "\n",
        "  d. Identificar Voos com Maior Atraso de Chegada\n",
        "\n",
        "  e. Análise de Correlação entre Atraso na Partida e Chegada\n"
      ],
      "metadata": {
        "id": "4JImodV5B2rK"
      }
    },
    {
      "cell_type": "code",
      "source": [],
      "metadata": {
        "id": "gXopT3_6C3hB"
      },
      "execution_count": null,
      "outputs": []
    },
    {
      "cell_type": "code",
      "source": [],
      "metadata": {
        "id": "t3knfWvhJJof"
      },
      "execution_count": null,
      "outputs": []
    },
    {
      "cell_type": "code",
      "source": [],
      "metadata": {
        "id": "meNUTv-FJJuD"
      },
      "execution_count": null,
      "outputs": []
    },
    {
      "cell_type": "code",
      "source": [],
      "metadata": {
        "id": "iv87asQFJJ55"
      },
      "execution_count": null,
      "outputs": []
    },
    {
      "cell_type": "code",
      "source": [],
      "metadata": {
        "id": "NQI-wwNuJKBL"
      },
      "execution_count": null,
      "outputs": []
    }
  ]
}