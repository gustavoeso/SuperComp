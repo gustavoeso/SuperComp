{
 "cells": [
  {
   "cell_type": "markdown",
   "metadata": {},
   "source": [
    "## Questão 1 - Compare esta heurística com a da seção anterior levando em conta a complexidade computacional."
   ]
  },
  {
   "cell_type": "markdown",
   "metadata": {},
   "source": [
    "### Resultados da Heurística \"Mais Caro Primeiro\":\n",
    "- **Valor Total**: 498\n",
    "- **Peso Total**: 372\n",
    "- **Tempo de Execução**: \\(1e^{-5}\\)s\n",
    "\n",
    "### Comparação com Heurísticas Anteriores (Aula Passada):\n",
    "1. **Heurística Aleatória (Embaralhar e Preencher)**:\n",
    "   - **Melhor Valor Total**: 344\n",
    "   - **Tempo Médio**: ~\\(2e^{-6}\\)s\n",
    "   - **Comparação**: \"Mais Caro Primeiro\" obteve um valor muito superior, embora a heurística aleatória tenha sido ligeiramente mais rápida.\n",
    "\n",
    "2. **Busca Local (Mochila Cheia)**:\n",
    "   - **Melhor Valor Total**: 423\n",
    "   - **Tempo Médio**: ~\\(2e^{-6}\\)s\n",
    "   - **Comparação**: A busca local teve bom desempenho, mas a heurística \"Mais Caro Primeiro\" conseguiu um valor maior. A diferença de tempo é pequena.\n",
    "\n",
    "3. **Busca Local (Substituição de Objeto)**:\n",
    "   - **Melhor Valor Total**: 398\n",
    "   - **Tempo Médio**: ~\\(8e^{-6}\\)s\n",
    "   - **Comparação**: A heurística \"Mais Caro Primeiro\" obteve tanto um valor superior quanto um tempo de execução um pouco melhor.\n",
    "\n",
    "4. **Hill Climbing**:\n",
    "   - **Melhor Valor Total**: 380\n",
    "   - **Tempo Médio**: ~\\(2e^{-6}\\)s\n",
    "   - **Comparação**: \"Mais Caro Primeiro\" ofereceu melhor valor, mas o Hill Climbing foi mais rápido.\n",
    "\n",
    "### Conclusão:\n",
    "A heurística \"Mais Caro Primeiro\" alcançou o melhor valor total em relação às anteriores, mas com um tempo de execução um pouco maior, embora ainda muito eficiente. Quando o objetivo é maximizar o valor, essa abordagem se destaca, mesmo com um leve aumento no tempo."
   ]
  },
  {
   "cell_type": "markdown",
   "metadata": {},
   "source": [
    "## Questão 2 - Quais partes do programa da heurística anterior podem ser aproveitadas para implementar a descrita acima?"
   ]
  },
  {
   "cell_type": "markdown",
   "metadata": {},
   "source": [
    "As partes do programa da heurística \"Mais Caro Primeiro\" que podem ser aproveitadas para implementar a heurística \"Mais Leve Primeiro\" são:\n",
    "\n",
    "1. **Função de leitura de dados**: A função `lerDados`, que lê os itens e a capacidade da mochila a partir de um arquivo, pode ser reutilizada integralmente.\n",
    "\n",
    "2. **Estrutura `Item`**: A estrutura que define os itens com `peso` e `valor` também é aproveitada sem modificações.\n",
    "\n",
    "3. **Lógica de inclusão dos itens**: O loop que adiciona itens à mochila, verificando se o peso total não excede a capacidade, permanece o mesmo.\n",
    "\n",
    "A única alteração necessária é no critério de ordenação."
   ]
  },
  {
   "cell_type": "markdown",
   "metadata": {},
   "source": [
    "## Questão 3 - Crie uma entrada em que a heurística do mais valioso seja muito melhor que a do mais leve. Coloque no relatório as saídas de cada programa."
   ]
  },
  {
   "cell_type": "markdown",
   "metadata": {
    "vscode": {
     "languageId": "plaintext"
    }
   },
   "source": [
    "#### Entrada Criada:\n",
    "\n",
    "O objetivo foi criar uma entrada onde a heurística \"Mais Caro Primeiro\" tenha uma vantagem significativa em relação à heurística \"Mais Leve Primeiro\". A entrada contém itens de valores bastante contrastantes, onde a heurística \"Mais Caro Primeiro\" deve priorizar um item de alto valor, enquanto a heurística \"Mais Leve Primeiro\" tende a preencher a mochila com itens de baixo valor.\n",
    "\n",
    "**Entrada (arquivo `entrada.txt`):**\n",
    "```\n",
    "6 50\n",
    "10 1000\n",
    "15 10\n",
    "20 5\n",
    "25 5\n",
    "5 1\n",
    "30 200\n",
    "```\n",
    "\n",
    "#### Saídas dos Programas:\n",
    "\n",
    "1. **Heurística \"Mais Caro Primeiro\"**:\n",
    "   - **Valor Total**: 1201\n",
    "   - **Peso Total**: 45\n",
    "   - **Tempo**: 2e-06s\n",
    "\n",
    "   **Explicação**: A heurística \"Mais Caro Primeiro\" priorizou o item de peso 10 e valor 1000, e depois incluiu o item de valor 200, resultando em um valor total muito alto de 1201.\n",
    "\n",
    "2. **Heurística \"Mais Leve Primeiro\"**:\n",
    "   - **Valor Total**: 1016\n",
    "   - **Peso Total**: 50\n",
    "   - **Tempo**: 2e-06s\n",
    "\n",
    "   **Explicação**: A heurística \"Mais Leve Primeiro\" tentou maximizar o número de itens, selecionando itens mais leves, mas de baixo valor, resultando em um valor total inferior de 1016, mesmo preenchendo completamente a capacidade da mochila.\n",
    "\n",
    "#### Conclusão:\n",
    "\n",
    "Nesta entrada, a heurística \"Mais Caro Primeiro\" obteve um valor total de **1201**, enquanto a heurística \"Mais Leve Primeiro\" ficou em **1016**. Isso mostra uma clara vantagem da abordagem que prioriza o valor, pois ela foi capaz de incluir os itens mais valiosos, mesmo que nem toda a capacidade da mochila tenha sido utilizada.\n",
    "\n",
    "Essa entrada demonstra como a heurística \"Mais Caro Primeiro\" pode superar a \"Mais Leve Primeiro\" quando há itens com grande disparidade de valor."
   ]
  },
  {
   "cell_type": "markdown",
   "metadata": {},
   "source": [
    "## Questão 4 - Crie uma entrada em que a heurística do mais leve seja muito melhor que a do mais valioso. Coloque no relatório as saídas de cada programa."
   ]
  },
  {
   "cell_type": "markdown",
   "metadata": {},
   "source": [
    "### Análise: Comparação das Heurísticas \"Mais Caro Primeiro\" e \"Mais Leve Primeiro\"\n",
    "\n",
    "#### Entrada Utilizada:\n",
    "\n",
    "```\n",
    "7 50\n",
    "45 300\n",
    "40 290\n",
    "35 280\n",
    "5 120\n",
    "4 110\n",
    "3 100\n",
    "2 90\n",
    "```\n",
    "\n",
    "#### Resultados Obtidos:\n",
    "\n",
    "1. **Heurística \"Mais Caro Primeiro\"**:\n",
    "   - **Valor Total**: 420\n",
    "   - **Peso Total**: 50\n",
    "   - **Tempo**: 2e-06s\n",
    "   - **Explicação**: A heurística \"Mais Caro Primeiro\" incluiu apenas os itens mais pesados (45 e 5 de peso), totalizando 420 de valor e preenchendo a capacidade da mochila. Embora tenha escolhido o item de maior valor, ela desperdiçou oportunidades de incluir mais itens de valor moderado por ter preenchido a mochila com um único item muito pesado.\n",
    "\n",
    "2. **Heurística \"Mais Leve Primeiro\"**:\n",
    "   - **Valor Total**: 700\n",
    "   - **Peso Total**: 49\n",
    "   - **Tempo**: 2e-06s\n",
    "   - **Explicação**: A heurística \"Mais Leve Primeiro\" selecionou uma combinação de itens leves (5, 4, 3, 2 de peso) que, juntos, atingiram um valor total de 700, quase preenchendo a capacidade da mochila de forma muito mais eficiente do que a heurística anterior.\n",
    "\n",
    "#### Conclusão:\n",
    "\n",
    "Neste caso, a **heurística \"Mais Leve Primeiro\"** foi significativamente superior, com um valor total de **700**, comparado aos **420** da heurística \"Mais Caro Primeiro\". A estratégia de escolher itens leves permitiu que a heurística \"Mais Leve Primeiro\" aproveitasse melhor a capacidade da mochila, incluindo mais itens de valor relativamente alto, mesmo sendo de menor peso. Já a heurística \"Mais Caro Primeiro\" se prendeu a itens muito pesados, o que limitou sua eficiência ao preencher rapidamente a capacidade da mochila sem maximizar o valor.\n",
    "\n",
    "Este exemplo demonstra como a heurística \"Mais Leve Primeiro\" pode superar a \"Mais Caro Primeiro\" em situações onde há muitos itens leves com valores competitivos em relação ao peso."
   ]
  },
  {
   "cell_type": "markdown",
   "metadata": {},
   "source": [
    "## Questão 5 - Com base nas suas respostas acima, em quais situações a heurística do mais valioso é melhor?"
   ]
  },
  {
   "cell_type": "markdown",
   "metadata": {},
   "source": [
    "A heurística \"Mais Caro Primeiro\" é mais eficaz em certas situações específicas, que podem ser descritas de forma um pouco mais detalhada:\n",
    "\n",
    "1. **Itens com Alto Valor Relativo ao Peso**:\n",
    "   - Quando os itens mais valiosos têm um peso relativamente moderado, essa heurística maximiza o valor da mochila sem consumir toda a capacidade com poucos itens.\n",
    "   \n",
    "2. **Pouca Disparidade entre os Pesos**:\n",
    "   - Se os itens não variam muito em peso, mas têm diferenças significativas em valor, essa heurística é ideal, pois o valor é o principal fator de decisão, sem a preocupação de otimizar o uso da capacidade.\n",
    "\n",
    "3. **Itens Extremamente Valiosos**:\n",
    "   - Em situações onde há alguns itens que possuem valores extremamente altos em comparação com o restante, mesmo que esses itens sejam mais pesados, a heurística \"Mais Caro Primeiro\" é eficiente, pois garante que os itens mais valiosos sejam priorizados.\n",
    "\n",
    "4. **Capacidade Alta da Mochila**:\n",
    "   - Se a mochila tem uma capacidade suficientemente grande para incluir itens valiosos sem comprometer muito o espaço, essa abordagem é vantajosa, pois ela preenche com os itens de maior valor, maximizando o retorno total.\n",
    "\n",
    "Nessas situações, a heurística \"Mais Caro Primeiro\" consegue maximizar o valor da mochila de forma eficiente, priorizando o valor sobre o peso dos itens."
   ]
  },
  {
   "cell_type": "markdown",
   "metadata": {},
   "source": [
    "## Questão 6 - Com base nas suas respostas acima, em quais situações a heurística do mais leve é melhor?"
   ]
  },
  {
   "cell_type": "markdown",
   "metadata": {},
   "source": [
    "A heurística \"Mais Leve Primeiro\" é mais eficaz em situações onde maximizar a quantidade de itens e a relação valor/peso é mais importante do que o valor absoluto de cada item. As situações em que ela se destaca incluem:\n",
    "\n",
    "1. **Muitos Itens Leves com Bom Valor Relativo**:\n",
    "   - Quando existem vários itens leves com valores moderadamente altos em relação ao peso, a heurística \"Mais Leve Primeiro\" permite que mais itens sejam incluídos, maximizando o uso da capacidade da mochila.\n",
    "\n",
    "2. **Itens Valiosos Muito Pesados**:\n",
    "   - Se os itens de maior valor são muito pesados, a heurística \"Mais Caro Primeiro\" pode preencher rapidamente a mochila com poucos itens, desperdiçando espaço. A heurística \"Mais Leve Primeiro\" funciona melhor ao escolher itens menores, permitindo maximizar o número de itens incluídos.\n",
    "\n",
    "3. **Capacidade Limitada da Mochila**:\n",
    "   - Quando a capacidade da mochila é limitada, a heurística \"Mais Leve Primeiro\" aproveita melhor o espaço disponível, garantindo que a mochila seja preenchida com o máximo de itens, evitando que apenas um ou dois itens pesados ocupem todo o espaço.\n",
    "\n",
    "4. **Grande Disparidade nos Pesos**:\n",
    "   - Em casos onde há uma grande variação no peso dos itens, mas os valores não variam tanto, a heurística \"Mais Leve Primeiro\" é melhor, pois ela seleciona mais itens com boa relação valor/peso, em vez de escolher itens pesados que ocupam muito espaço.\n",
    "\n",
    "Nessas situações, a heurística \"Mais Leve Primeiro\" consegue utilizar melhor a capacidade da mochila, resultando em um valor total maior ao incluir mais itens."
   ]
  },
  {
   "cell_type": "markdown",
   "metadata": {},
   "source": [
    "## Questão 7 - Qual a complexidade computacional das abordagens?"
   ]
  },
  {
   "cell_type": "markdown",
   "metadata": {},
   "source": [
    "A complexidade computacional das abordagens \"Mais Caro Primeiro\" e \"Mais Leve Primeiro\" é dominada pela operação de ordenação dos itens. Ambas as heurísticas seguem a mesma estrutura básica e, portanto, têm a mesma complexidade.\n",
    "\n",
    "### Complexidade Computacional:\n",
    "\n",
    "1. **Ordenação dos Itens**:\n",
    "   - Tanto \"Mais Caro Primeiro\" quanto \"Mais Leve Primeiro\" ordenam os itens. A ordenação tem complexidade $(O(n \\log n))$, onde $(n)$ é o número de itens.\n",
    "\n",
    "2. **Inclusão dos Itens na Mochila**:\n",
    "   - Após a ordenação, as heurísticas percorrem a lista de itens para decidir quais podem ser incluídos na mochila, o que tem complexidade $(O(n))$.\n",
    "\n",
    "### Complexidade Total:\n",
    "- A complexidade total de ambas as heurísticas é $(O(n \\log n))$, já que a etapa de ordenação domina o tempo de execução."
   ]
  },
  {
   "cell_type": "markdown",
   "metadata": {},
   "source": [
    "## Questão 8 - Quando uma é melhor que a outra?"
   ]
  },
  {
   "cell_type": "markdown",
   "metadata": {},
   "source": [
    "As heurísticas \"Mais Caro Primeiro\" e \"Mais Leve Primeiro\" têm suas vantagens em diferentes situações. Aqui estão os cenários em que cada uma é mais eficaz:\n",
    "\n",
    "### Quando a Heurística \"Mais Caro Primeiro\" é Melhor:\n",
    "1. **Itens de Alto Valor com Peso Moderado**:\n",
    "   - Quando há itens com valores muito altos em relação ao peso, a heurística \"Mais Caro Primeiro\" consegue maximizar o valor da mochila sem comprometer muito a capacidade.\n",
    "\n",
    "2. **Pouca Variação de Peso**:\n",
    "   - Se os itens têm pesos semelhantes, mas seus valores variam muito, \"Mais Caro Primeiro\" é mais eficaz, pois seleciona os itens mais valiosos sem se preocupar tanto com a capacidade.\n",
    "\n",
    "3. **Capacidade Alta da Mochila**:\n",
    "   - Quando a mochila tem alta capacidade em relação ao peso dos itens, a heurística pode preencher a mochila com os itens de maior valor, maximizando o valor total.\n",
    "\n",
    "4. **Poucos Itens Extremamente Valiosos**:\n",
    "   - Se há poucos itens que são muito valiosos em comparação com os outros, essa heurística é ideal para garantir que esses itens sejam incluídos.\n",
    "\n",
    "### Quando a Heurística \"Mais Leve Primeiro\" é Melhor:\n",
    "1. **Muitos Itens Leves com Boa Relação Valor/Peso**:\n",
    "   - Quando existem muitos itens leves com valores moderadamente altos, a heurística \"Mais Leve Primeiro\" é vantajosa, pois permite incluir mais itens e maximizar o uso da capacidade da mochila.\n",
    "\n",
    "2. **Itens Valiosos Muito Pesados**:\n",
    "   - Se os itens mais valiosos são muito pesados, a heurística \"Mais Leve Primeiro\" evita preencher a mochila com um único item pesado, escolhendo itens menores que geram um bom retorno em relação ao peso.\n",
    "\n",
    "3. **Capacidade Limitada da Mochila**:\n",
    "   - Quando a capacidade da mochila é baixa, a heurística \"Mais Leve Primeiro\" otimiza melhor o espaço, garantindo que mais itens sejam incluídos, mesmo que seus valores individuais não sejam os mais altos.\n",
    "\n",
    "4. **Grande Disparidade de Peso**:\n",
    "   - Se há uma grande variação de peso entre os itens, mas os valores não variam tanto, \"Mais Leve Primeiro\" é mais eficaz, pois seleciona itens com boa relação valor/peso, otimizando o uso da capacidade da mochila.\n",
    "\n",
    "### Resumo:\n",
    "- **\"Mais Caro Primeiro\"** é melhor quando o objetivo é maximizar o valor absoluto, especialmente quando os itens mais valiosos têm pesos razoáveis.\n",
    "- **\"Mais Leve Primeiro\"** é melhor quando o objetivo é maximizar a quantidade de itens incluídos, ou quando a capacidade da mochila é baixa e os itens valiosos são muito pesados."
   ]
  },
  {
   "cell_type": "markdown",
   "metadata": {},
   "source": [
    "## Questão 10 - Alguma consegue obter o melhor valor possível?"
   ]
  },
  {
   "cell_type": "markdown",
   "metadata": {},
   "source": [
    "Nenhuma das heurísticas, **\"Mais Caro Primeiro\"** ou **\"Mais Leve Primeiro\"**, garante obter o **melhor valor possível** (ou seja, a solução ótima) para o problema da mochila. Ambas são abordagens **gulosas**, que tomam decisões localmente ótimas em cada etapa (escolhendo o item mais caro ou o mais leve), mas podem falhar em encontrar a solução globalmente ótima.\n",
    "\n",
    "### Razões pelas quais nenhuma garante o melhor valor:\n",
    "\n",
    "1. **Heurística \"Mais Caro Primeiro\"**:\n",
    "   - **Limitação**: Ela pode escolher itens de valor muito alto, mas que consomem grande parte da capacidade da mochila, deixando de fora combinações de itens que, juntos, poderiam gerar um valor maior.\n",
    "   - **Exemplo**: Se há um item de alto valor, mas muito pesado, essa heurística pode optar por ele, mas outras combinações de itens leves poderiam gerar um valor total maior.\n",
    "\n",
    "2. **Heurística \"Mais Leve Primeiro\"**:\n",
    "   - **Limitação**: Ela foca em maximizar a quantidade de itens escolhidos, mas pode acabar incluindo muitos itens de baixo valor, perdendo a oportunidade de selecionar alguns itens mais valiosos que otimizariam melhor a capacidade da mochila.\n",
    "   - **Exemplo**: A mochila pode acabar cheia de itens leves, mas o valor total será menor do que se fossem escolhidos menos itens de valor mais alto.\n",
    "\n",
    "### Soluções que garantem o melhor valor:\n",
    "Para garantir o **melhor valor possível** (a solução ótima), é necessário utilizar **algoritmos exatos**, como:\n",
    "- **Programação Dinâmica**: Resolve o problema da mochila com complexidade \\(O(n \\cdot C)\\), onde \\(n\\) é o número de itens e \\(C\\) é a capacidade da mochila.\n",
    "- **Busca Exaustiva (Força Bruta)**: Tenta todas as combinações possíveis de itens, garantindo encontrar a solução ótima, mas é impraticável para grandes entradas devido à complexidade \\(O(2^n)\\).\n",
    "\n",
    "### Conclusão:\n",
    "Embora ambas as heurísticas possam ser eficientes em alguns casos, nenhuma delas garante o valor ótimo. Elas são rápidas e funcionam bem em cenários específicos, mas para encontrar o melhor valor garantido, seria necessário um algoritmo exato, como a programação dinâmica ou a busca exaustiva."
   ]
  }
 ],
 "metadata": {
  "language_info": {
   "name": "python"
  }
 },
 "nbformat": 4,
 "nbformat_minor": 2
}
