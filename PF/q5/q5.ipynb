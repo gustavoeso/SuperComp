{
 "cells": [
  {
   "cell_type": "markdown",
   "metadata": {},
   "source": [
    "# Questão 5 - Fundamentos de Paralelismo"
   ]
  },
  {
   "cell_type": "markdown",
   "metadata": {},
   "source": [
    "### Parte A - Descreva com suas palavras o que é paralelismo, diferenciando-o do processamento sequencial. Relacione sua reposta com o conceito de escalabilidade.\n",
    "\n",
    "Processo sequencial refere-se a quando um programa roda sequencialmente em um único núcleo de processamento, ou seja, cada instrução é executada uma após a outra, independente do harware que você tem, se você tiver 6 cores por exemplo, ele vai utilizar apenas um core e rodar sequencialmente. Já o paralelismo refere-se a quando um programa tem a capacidade de ser dividido em diversos núcleos de processamento, permitindo que várias instruções sejam executadas simultaneamente.\n",
    "\n",
    "No paralelismo, o seu objetivo principal é dividir o problema em partes menores, que possam ser resolvidas simultaneamente, consequentemente reduzindo o tempo total de execução, onde isso é atingindo utilizando diversos núcleos de CPU, GPU ou clusters de computadores.\n",
    "\n",
    "A relação de escalabilidade é direta, onde um sistema paralelo escalável pode lidar com problemas maiores, ou reduzir o tempo de execução a medida que mais recursos (processadores e núcleos junto com memória) são adicionadas. Por exemplo, se um sistema com 4 núcleos pode processar uma tarefa 4 vezes mais rápido que um núcleo único, ele é considerado escalável. No entanto, essa escalabilidade depende de fatores como a natureza do problema e a eficiência do balanceamento de carga. Vale lembrar que nem sempre adicionar mais recursos resultará em um ganho de desempenho, pois a comunicação entre os núcleos pode se tornar um gargalo e resultar em overhead.\n",
    "\n",
    "---"
   ]
  },
  {
   "cell_type": "markdown",
   "metadata": {},
   "source": [
    "### Parte B - O conceito de balanceamento de carga em computação paralela refere-se à distribuição equitativa do trabalho entre todos os processadores ou núcleos disponíveis em um sistema de computação paralelo. Por que é importante? Quais técnicas podem ser usadas para alcançar um balanceamento efetivo?\n",
    "\n",
    "O balanceamento de carga é essencial em computação paralela para garantir que o trabalho seja distribuído uniformemente entre todos os processadores ou núcleos disponíveis. Quando o trabalho é desigualmente distribuído, alguns processadores podem ficar sobrecarregados enquanto outros tem menos tarefa, fazendo com que ele acabe e fique sem fazer nada, resultando em desperdício de recursos e menor eficiência.\n",
    "\n",
    "A importância do balanceamento de cargas vem dos seguintes pontos:\n",
    "- Eficiência: Garante que todos os processadores contribuam igualmente, reduzindo o tempo total de execução.\n",
    "- Escalabilidade: Um sistema com bom balanceamento pode escalar melhor, pois evita gargalos e desperdícios de recursos.\n",
    "- Redução de Overhead: Minimiza o tempo perdido na comunicação e sincronização entre processadores.\n",
    "\n",
    "Técnicas comuns para alcançar um balanceamento efetivo incluem:\n",
    "- Divisão Estática de Carga: O trabalho é dividido de forma fixa entre os processadores antes do início da execução. Um exemplo seria o uso do OpenMP `static` schedule, onde cada thread recebe um número fixo de iterações de um loop.\n",
    "- Divisão Dinâmica de Carga: O trabalho é dividido dinamicamente durante a execução, permitindo que processadores mais rápidos ou menos ocupados recebam mais tarefas. Um exemplo seria o uso do OpenMP `dynamic` schedule, onde as tarefas são distribuídas conforme os processadores terminam suas tarefas."
   ]
  }
 ],
 "metadata": {
  "language_info": {
   "name": "python"
  }
 },
 "nbformat": 4,
 "nbformat_minor": 2
}
