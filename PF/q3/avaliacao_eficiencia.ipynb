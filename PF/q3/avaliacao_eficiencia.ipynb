{
 "cells": [
  {
   "cell_type": "markdown",
   "metadata": {},
   "source": [
    "## Avaliando a eficiencia da paralelização por quantidade de CPUs"
   ]
  },
  {
   "cell_type": "markdown",
   "metadata": {},
   "source": [
    "### **Avaliação dos Tempos de Execução**\n",
    "\n",
    "Para avaliar a eficiencia de paralelização nessa aplicação, foi feita uma análise com quantidade de CPUs por task variando com 2, 4 e 8 CPUs. O objetivo é avaliar o impacto do paralelismo no tempo de execução e na precisão do cálculo.\n",
    "\n",
    "Os tempos obtidos para cada configuração de CPUs foram:\n",
    "\n",
    "- **2 CPUs**:\n",
    "  - Tempo: `0.000227924` segundos\n",
    "  - **Média**: `50.4297`\n",
    "  - **Máximo**: `100`\n",
    "\n",
    "- **4 CPUs**:\n",
    "  - Tempo: `0.000306016` segundos\n",
    "  - **Média**: `50.3608`\n",
    "  - **Máximo**: `100`\n",
    "\n",
    "- **8 CPUs**:\n",
    "  - Tempo: `0.000330025` segundos\n",
    "  - **Média**: `50.5857`\n",
    "  - **Máximo**: `100`\n",
    "\n",
    "  `(Tamanho do vetor: n = 100.000)`\n",
    "\n",
    "---\n",
    "\n",
    "### **Motivos para os Resultados**\n",
    "\n",
    "1. **Variação no Valor da Média**:\n",
    "   - O vetor foi **gerado aleatoriamente** para cada execução, já que o script SLURM foi executado novamente para cada configuração de `--cpus-per-task`.\n",
    "   - Isso resulta em pequenas diferenças nos valores da **média** (`50.4297`, `50.3608`, `50.5857`), mesmo que a faixa de valores do vetor permaneça consistente (entre 1 e 100).\n",
    "\n",
    "2. **Tempo de Execução Menor com 2 CPUs**:\n",
    "   - Para 2 CPUs, o tempo foi o menor (`0.000227924` segundos). Isso ocorre porque, com um vetor relativamente pequeno, o **overhead do paralelismo** (sincronização e coordenação entre threads) é reduzido com um número menor de threads.\n",
    "   - A menor quantidade de CPUs requer menos sincronização e menos troca de dados entre threads.\n",
    "\n",
    "3. **Tempos Maiores com 4 e 8 CPUs**:\n",
    "   - **4 CPUs** (`0.000306016` segundos) e **8 CPUs** (`0.000330025` segundos) apresentaram tempos maiores, o que parece contraintuitivo. Isso pode ser explicado por:\n",
    "     - **Overhead adicional**: O aumento do número de threads introduz custos de sincronização e agendamento, especialmente quando o trabalho é insuficiente para justificar o paralelismo maior..\n",
    "     - **Cluster compartilha recursos**: Em sistemas compartilhados, o desempenho pode ser influenciado por outros jobs concorrentes, impactando configurações mais intensivas em recursos, como 8 CPUs.\n",
    "\n",
    "4. **Máximo Consistente**:\n",
    "   - O valor do máximo (`100`) foi constante em todas as execuções. Isso demonstra que o cálculo está correto e que o paralelismo não afeta a acurácia do resultado.\n",
    "\n",
    "---\n",
    "\n",
    "### **Conclusão**\n",
    "\n",
    "1. **Impacto do Overhead**:\n",
    "   - Para vetores relativamente pequenos, o tempo necessário para coordenar mais threads (4 ou 8) supera os benefícios do paralelismo. Isso explica por que o tempo foi menor com 2 CPUs.\n",
    "\n",
    "2. **Consistência nos Resultados**:\n",
    "   - Embora os tempos e os valores da média variem, o cálculo do máximo permanece consistente e correto em todas as execuções.\n",
    "\n",
    "3. **Uso em Vetores Maiores**:\n",
    "   - Para avaliar melhor o impacto do paralelismo, seria ideal testar com vetores maiores, onde o custo de processamento domina o overhead.\n"
   ]
  }
 ],
 "metadata": {
  "language_info": {
   "name": "python"
  }
 },
 "nbformat": 4,
 "nbformat_minor": 2
}
