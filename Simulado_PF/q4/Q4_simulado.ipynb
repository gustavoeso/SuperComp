{
  "cells": [
    {
      "cell_type": "markdown",
      "metadata": {
        "id": "SQ2vjAmpAAqB"
      },
      "source": [
        "# Insper - Supercomputação - Prova Intermediária\n",
        "\n",
        "Questão sobre GPU / THRUST.\n",
        "\n",
        "\n",
        "**Questão 4: Normalização de Vetor com Thrust**\n",
        "\n",
        "Na análise de dados e no processamento de sinais, normalizar um vetor é uma operação comum que ajusta a escala dos elementos para que o vetor tenha uma norma unitária (ou seja, a soma dos quadrados dos elementos é igual a 1). Essa tarefa se torna computacionalmente intensiva para vetores de grande dimensão, fazendo com que a paralelização em GPU seja uma solução atrativa.\n",
        "\n",
        "**Objetivo**:\n",
        "\n",
        "Complemente o código abaixo usando a biblioteca Thrust para normalizar um vetor grande. O código inicial cria um vetor com valores aleatórios. Você deve implementar as etapas para:\n",
        "\n",
        "1. calcular a norma L2 do vetor,\n",
        "2. dividir cada elemento do vetor por essa norma e\n",
        "3. imprimir o resultado final.\n",
        "\n",
        "**Código Pré-Pronto**:\n",
        "\n",
        "Complete o código com a sua solução."
      ]
    },
    {
      "cell_type": "code",
      "source": [
        "%%writefile gpu.cu\n",
        "\n",
        "#include <thrust/device_vector.h>\n",
        "#include <thrust/host_vector.h>\n",
        "#include <thrust/transform_reduce.h>\n",
        "#include <thrust/transform.h>\n",
        "#include <thrust/functional.h>\n",
        "#include <thrust/iterator/constant_iterator.h>\n",
        "#include <iostream>\n",
        "#include <cmath>\n",
        "#include <random> // Para std::default_random_engine e std::uniform_real_distribution\n",
        "\n",
        "// Função para gerar números aleatórios\n",
        "struct prg\n",
        "{\n",
        "    float a, b;\n",
        "\n",
        "    __host__ __device__\n",
        "    prg(float _a = 0.f, float _b = 1.f) : a(_a), b(_b) {};\n",
        "\n",
        "    __host__ __device__\n",
        "    float operator()(const unsigned int n) const\n",
        "    {\n",
        "#if defined(__CUDA_ARCH__)\n",
        "        // Código para execução na GPU\n",
        "        unsigned int seed = n; // Define a semente com base no índice\n",
        "        unsigned int value = seed * 1103515245 + 12345; // Linear congruential generator\n",
        "        return a + (value % 10000) / 10000.0f * (b - a);\n",
        "#else\n",
        "        // Código para execução na CPU\n",
        "        static std::default_random_engine rng;\n",
        "        std::uniform_real_distribution<float> dist(a, b);\n",
        "        rng.seed(n);\n",
        "        return dist(rng);\n",
        "#endif\n",
        "    }\n",
        "};\n",
        "\n",
        "// Estrutura para calcular o quadrado de um elemento\n",
        "struct square\n",
        "{\n",
        "    __host__ __device__\n",
        "    float operator()(const float& x) const\n",
        "    {\n",
        "        return x * x;\n",
        "    }\n",
        "};\n",
        "\n",
        "// Estrutura para normalizar os elementos do vetor\n",
        "struct normalize\n",
        "{\n",
        "    float norm;\n",
        "\n",
        "    normalize(float _norm) : norm(_norm) {}\n",
        "\n",
        "    __host__ __device__\n",
        "    float operator()(const float& x) const\n",
        "    {\n",
        "        return x / norm;\n",
        "    }\n",
        "};\n",
        "\n",
        "int main() {\n",
        "    const int N = 1000000; // Tamanho do vetor\n",
        "    thrust::counting_iterator<unsigned int> index_sequence_begin(0);\n",
        "    thrust::host_vector<float> h_vec(N);\n",
        "\n",
        "    // Preencher o vetor com números aleatórios entre 1.0 e 2.0\n",
        "    thrust::transform(index_sequence_begin,\n",
        "                      index_sequence_begin + N,\n",
        "                      h_vec.begin(),\n",
        "                      prg(1.f, 2.f));\n",
        "\n",
        "    // Imprime alguns valores do vetor criado para verificação\n",
        "    for (int i = 0; i < 20; i++) {\n",
        "        std::cout << \"Elemento original \" << i << \": \" << h_vec[i] << std::endl;\n",
        "    }\n",
        "\n",
        "    // Copia o vetor do host para o dispositivo\n",
        "    thrust::device_vector<float> d_vec = h_vec;\n",
        "\n",
        "    // Calcula a norma L2 do vetor\n",
        "    float norm = std::sqrt(\n",
        "        thrust::transform_reduce(d_vec.begin(), d_vec.end(), square(), 0.0f, thrust::plus<float>())\n",
        "    );\n",
        "\n",
        "    // Imprime a norma calculada\n",
        "    std::cout << \"Norma calculada: \" << norm << std::endl;\n",
        "\n",
        "    // Normalize o vetor dividindo cada elemento pela norma L2\n",
        "    thrust::transform(d_vec.begin(), d_vec.end(), d_vec.begin(), normalize(norm));\n",
        "\n",
        "    // Copia o vetor normalizado de volta para o host\n",
        "    thrust::copy(d_vec.begin(), d_vec.end(), h_vec.begin());\n",
        "\n",
        "    // Imprime alguns valores do vetor normalizado para verificação\n",
        "    for (int i = 0; i < 20; i++) {\n",
        "        std::cout << \"Elemento normalizado \" << i << \": \" << h_vec[i] << std::endl;\n",
        "    }\n",
        "\n",
        "    return 0;\n",
        "}\n",
        "\n"
      ],
      "metadata": {
        "colab": {
          "base_uri": "https://localhost:8080/"
        },
        "id": "3e-yWwD8LITG",
        "outputId": "8d796f98-d621-43ec-86c6-5fa4c89be41b"
      },
      "execution_count": 4,
      "outputs": [
        {
          "output_type": "stream",
          "name": "stdout",
          "text": [
            "Overwriting gpu.cu\n"
          ]
        }
      ]
    },
    {
      "cell_type": "markdown",
      "source": [
        "Compilando o código"
      ],
      "metadata": {
        "id": "ArC24yXgKpon"
      }
    },
    {
      "cell_type": "code",
      "source": [
        "!nvcc -arch=sm_75 -std=c++14 gpu.cu -o gpu"
      ],
      "metadata": {
        "id": "8bwfjLxDLqoX"
      },
      "execution_count": 5,
      "outputs": []
    },
    {
      "cell_type": "markdown",
      "source": [
        "Exemplo de execução:"
      ],
      "metadata": {
        "id": "xZNFIBWgKs5B"
      }
    },
    {
      "cell_type": "code",
      "source": [
        "%%time\n",
        "!./gpu"
      ],
      "metadata": {
        "id": "IcrtojzSLs3e",
        "colab": {
          "base_uri": "https://localhost:8080/"
        },
        "outputId": "e344271b-135f-4dd2-ff25-4aecca5d5aaf"
      },
      "execution_count": 6,
      "outputs": [
        {
          "output_type": "stream",
          "name": "stdout",
          "text": [
            "Elemento original 0: 1.00001\n",
            "Elemento original 1: 1.00001\n",
            "Elemento original 2: 1.00002\n",
            "Elemento original 3: 1.00002\n",
            "Elemento original 4: 1.00003\n",
            "Elemento original 5: 1.00004\n",
            "Elemento original 6: 1.00005\n",
            "Elemento original 7: 1.00005\n",
            "Elemento original 8: 1.00006\n",
            "Elemento original 9: 1.00007\n",
            "Elemento original 10: 1.00008\n",
            "Elemento original 11: 1.00009\n",
            "Elemento original 12: 1.00009\n",
            "Elemento original 13: 1.0001\n",
            "Elemento original 14: 1.00011\n",
            "Elemento original 15: 1.00012\n",
            "Elemento original 16: 1.00013\n",
            "Elemento original 17: 1.00013\n",
            "Elemento original 18: 1.00014\n",
            "Elemento original 19: 1.00015\n",
            "Norma calculada: 1517.84\n",
            "Elemento normalizado 0: 0.000658836\n",
            "Elemento normalizado 1: 0.000658836\n",
            "Elemento normalizado 2: 0.000658841\n",
            "Elemento normalizado 3: 0.000658846\n",
            "Elemento normalizado 4: 0.000658851\n",
            "Elemento normalizado 5: 0.000658856\n",
            "Elemento normalizado 6: 0.000658862\n",
            "Elemento normalizado 7: 0.000658867\n",
            "Elemento normalizado 8: 0.000658872\n",
            "Elemento normalizado 9: 0.000658877\n",
            "Elemento normalizado 10: 0.000658882\n",
            "Elemento normalizado 11: 0.000658887\n",
            "Elemento normalizado 12: 0.000658893\n",
            "Elemento normalizado 13: 0.000658898\n",
            "Elemento normalizado 14: 0.000658903\n",
            "Elemento normalizado 15: 0.000658908\n",
            "Elemento normalizado 16: 0.000658913\n",
            "Elemento normalizado 17: 0.000658918\n",
            "Elemento normalizado 18: 0.000658924\n",
            "Elemento normalizado 19: 0.000658929\n",
            "CPU times: user 9.9 ms, sys: 741 µs, total: 10.6 ms\n",
            "Wall time: 507 ms\n"
          ]
        }
      ]
    },
    {
      "cell_type": "code",
      "source": [],
      "metadata": {
        "id": "SWipD6AWqgUC"
      },
      "execution_count": null,
      "outputs": []
    }
  ],
  "metadata": {
    "accelerator": "GPU",
    "colab": {
      "provenance": []
    },
    "kernelspec": {
      "display_name": "Python 3",
      "name": "python3"
    },
    "language_info": {
      "name": "python"
    }
  },
  "nbformat": 4,
  "nbformat_minor": 0
}