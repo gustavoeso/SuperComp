{
  "nbformat": 4,
  "nbformat_minor": 0,
  "metadata": {
    "colab": {
      "provenance": [],
      "gpuType": "T4"
    },
    "kernelspec": {
      "name": "python3",
      "display_name": "Python 3"
    },
    "language_info": {
      "name": "python"
    },
    "accelerator": "GPU"
  },
  "cells": [
    {
      "cell_type": "markdown",
      "source": [
        "# Aula 10 - Thrust para programação paralela em GPU"
      ],
      "metadata": {
        "id": "rJnmC8FmirL-"
      }
    },
    {
      "cell_type": "code",
      "execution_count": 1,
      "metadata": {
        "colab": {
          "base_uri": "https://localhost:8080/"
        },
        "id": "5f_pa8Kyh3yc",
        "outputId": "96deeaca-038c-4caa-dbcb-2119e49a37b5"
      },
      "outputs": [
        {
          "output_type": "stream",
          "name": "stdout",
          "text": [
            "Fri Sep 13 13:17:38 2024       \n",
            "+---------------------------------------------------------------------------------------+\n",
            "| NVIDIA-SMI 535.104.05             Driver Version: 535.104.05   CUDA Version: 12.2     |\n",
            "|-----------------------------------------+----------------------+----------------------+\n",
            "| GPU  Name                 Persistence-M | Bus-Id        Disp.A | Volatile Uncorr. ECC |\n",
            "| Fan  Temp   Perf          Pwr:Usage/Cap |         Memory-Usage | GPU-Util  Compute M. |\n",
            "|                                         |                      |               MIG M. |\n",
            "|=========================================+======================+======================|\n",
            "|   0  Tesla T4                       Off | 00000000:00:04.0 Off |                    0 |\n",
            "| N/A   53C    P8              10W /  70W |      0MiB / 15360MiB |      0%      Default |\n",
            "|                                         |                      |                  N/A |\n",
            "+-----------------------------------------+----------------------+----------------------+\n",
            "                                                                                         \n",
            "+---------------------------------------------------------------------------------------+\n",
            "| Processes:                                                                            |\n",
            "|  GPU   GI   CI        PID   Type   Process name                            GPU Memory |\n",
            "|        ID   ID                                                             Usage      |\n",
            "|=======================================================================================|\n",
            "|  No running processes found                                                           |\n",
            "+---------------------------------------------------------------------------------------+\n"
          ]
        }
      ],
      "source": [
        "!nvidia-smi"
      ]
    },
    {
      "cell_type": "markdown",
      "source": [
        "## Exemplo 1"
      ],
      "metadata": {
        "id": "1Z64St3Bii9y"
      }
    },
    {
      "cell_type": "code",
      "source": [
        "%%writefile exemplo1.cu\n",
        "#include <thrust/device_vector.h> // Inclui a biblioteca para vetores na GPU (device)\n",
        "#include <thrust/host_vector.h>   // Inclui a biblioteca para vetores na CPU (host)\n",
        "#include <iostream>               // Biblioteca padrão para entrada e saída de dados\n",
        "\n",
        "int main() {\n",
        "    // Cria um vetor na CPU (host) com 5 elementos, todos inicializados com 0\n",
        "    thrust::host_vector<double> host(5, 0);\n",
        "    host[4] = 35; // Altera o último elemento do vetor para 35\n",
        "\n",
        "    /* Os dados do vetor 'host' são copiados para a GPU,\n",
        "       criando um vetor equivalente na GPU (device) */\n",
        "    thrust::device_vector<double> dev(host);\n",
        "\n",
        "    /* Altera o vetor na CPU, mas não afeta o vetor na GPU,\n",
        "       pois a cópia já foi feita anteriormente */\n",
        "    host[2] = 12; // Altera o terceiro elemento do vetor na CPU para 12\n",
        "\n",
        "    // Exibe os elementos do vetor na CPU\n",
        "    printf(\"Host vector: \");\n",
        "    for (auto i = host.begin(); i != host.end(); i++) {\n",
        "        std::cout << *i << \" \"; // Acesso rápido aos elementos na CPU\n",
        "    }\n",
        "    printf(\"\\n\");\n",
        "\n",
        "    // Exibe os elementos do vetor na GPU\n",
        "    printf(\"Device vector: \");\n",
        "    for (auto i = dev.begin(); i != dev.end(); i++) {\n",
        "        std::cout << *i << \" \"; // Acesso aos elementos na GPU é lento, pois os dados estão na GPU\n",
        "    }\n",
        "    printf(\"\\n\");\n",
        "}"
      ],
      "metadata": {
        "colab": {
          "base_uri": "https://localhost:8080/"
        },
        "id": "4qBNStYniOGy",
        "outputId": "cf7fa6bf-2a29-4ddf-a9eb-59be1198f583"
      },
      "execution_count": 2,
      "outputs": [
        {
          "output_type": "stream",
          "name": "stdout",
          "text": [
            "Writing exemplo1.cu\n"
          ]
        }
      ]
    },
    {
      "cell_type": "code",
      "source": [
        "!nvcc -arch=sm_75 -std=c++14 exemplo1.cu -o exemplo1"
      ],
      "metadata": {
        "id": "oIz7o2t8iQLy"
      },
      "execution_count": 3,
      "outputs": []
    },
    {
      "cell_type": "code",
      "source": [
        "!./exemplo1"
      ],
      "metadata": {
        "colab": {
          "base_uri": "https://localhost:8080/"
        },
        "id": "TITNZbn5iRhG",
        "outputId": "b3a8021d-d916-4e59-cf01-ccb1d009f410"
      },
      "execution_count": 4,
      "outputs": [
        {
          "output_type": "stream",
          "name": "stdout",
          "text": [
            "Host vector: 0 0 12 0 35 \n",
            "Device vector: 0 0 0 0 35 \n"
          ]
        }
      ]
    },
    {
      "cell_type": "markdown",
      "source": [
        "## Exemplo 2"
      ],
      "metadata": {
        "id": "dt4OKZ5YilyI"
      }
    },
    {
      "cell_type": "code",
      "source": [
        "%%writefile exemplo2.cu\n",
        "#include <thrust/device_vector.h>              // Inclui a biblioteca para vetores na GPU\n",
        "#include <thrust/host_vector.h>                // Inclui a biblioteca para vetores na CPU\n",
        "#include <thrust/sequence.h>                   // Inclui a função para preencher vetores com uma sequência de números\n",
        "#include <thrust/functional.h>                 // Inclui operações matemáticas padrão, como soma e multiplicação\n",
        "#include <thrust/transform.h>                  // Inclui a função para transformar vetores com operações ponto a ponto\n",
        "#include <thrust/iterator/constant_iterator.h> // Inclui o iterador constante necessário\n",
        "#include <iostream>\n",
        "\n",
        "int main() {\n",
        "    // Cria um vetor na GPU (device_vector) com 10 elementos, todos inicializados com 0\n",
        "    thrust::device_vector<double> V1(10, 0);\n",
        "    // Preenche V1 com uma sequência de números: {0, 1, 2, ..., 9}\n",
        "    thrust::sequence(V1.begin(), V1.end());\n",
        "\n",
        "    // Cria um vetor na GPU com 5 elementos, todos inicializados com 0\n",
        "    thrust::device_vector<double> V2(5, 0);\n",
        "    // Preenche os dois primeiros elementos de V2 com 5.5: {5.5, 5.5, 0, 0, 0}\n",
        "    thrust::fill(V2.begin(), V2.begin() + 2, 5.5);\n",
        "    // Preenche os elementos restantes de V2 com 10: {5.5, 5.5, 10, 10, 10}\n",
        "    thrust::fill(V2.begin() + 2, V2.end(), 10);\n",
        "\n",
        "    // Cria dois vetores na GPU com 10 elementos, para armazenar resultados das operações\n",
        "    thrust::device_vector<double> V3(10); // Vetor para armazenar o resultado da soma\n",
        "    thrust::device_vector<double> V4(10); // Vetor para armazenar o resultado da multiplicação\n",
        "\n",
        "    // Aplica a operação de soma elemento por elemento entre V1 e V2 e armazena o resultado em V3\n",
        "    // Como V2 tem menos elementos, o restante de V1 é somado com zeros (elemento padrão).\n",
        "    // Resultado: V3 = {0+5.5, 1+5.5, 2+10, 3+10, 4+10, 5+0, ..., 9+0}\n",
        "    thrust::transform(V1.begin(), V1.end(), V2.begin(), V3.begin(), thrust::plus<double>());\n",
        "\n",
        "    // Aplica multiplicação de V1 com o valor constante 0.5\n",
        "    // e armazenaria o resultado em V4.\n",
        "    thrust::transform(V1.begin(), V1.end(), thrust::constant_iterator<double>(0.5), V4.begin(), thrust::multiplies<double>());\n",
        "\n",
        "    // Imprime os elementos de V1\n",
        "    printf(\"V1: \");\n",
        "    for (thrust::device_vector<double>::iterator i = V1.begin(); i != V1.end(); i++) {\n",
        "        std::cout << *i << \" \"; // Acessa e imprime cada elemento do vetor V1\n",
        "    }\n",
        "    printf(\"\\n\");\n",
        "\n",
        "    // Imprime os elementos de V2\n",
        "    printf(\"V2: \");\n",
        "    for (thrust::device_vector<double>::iterator i = V2.begin(); i != V2.end(); i++) {\n",
        "        std::cout << *i << \" \"; // Acessa e imprime cada elemento do vetor V2\n",
        "    }\n",
        "    printf(\"\\n\");\n",
        "\n",
        "    // Imprime os elementos de V3\n",
        "    printf(\"V3: \");\n",
        "    for (thrust::device_vector<double>::iterator i = V3.begin(); i != V3.end(); i++) {\n",
        "        std::cout << *i << \" \"; // Acessa e imprime cada elemento do vetor V3\n",
        "    }\n",
        "    printf(\"\\n\");\n",
        "\n",
        "    // Imprime o vetor V4, que foi criado mas não utilizado.\n",
        "     printf(\"V4: \");\n",
        "    for (thrust::device_vector<double>::iterator i = V4.begin(); i != V4.end(); i++) {\n",
        "         std::cout << *i << \" \";\n",
        "    }\n",
        "    printf(\"\\n\");\n",
        "\n",
        "    return 0;\n",
        "}"
      ],
      "metadata": {
        "colab": {
          "base_uri": "https://localhost:8080/"
        },
        "id": "UKAAkabKimy2",
        "outputId": "9dd2f784-e110-466a-c2f7-0ba7bfe0b6a5"
      },
      "execution_count": 5,
      "outputs": [
        {
          "output_type": "stream",
          "name": "stdout",
          "text": [
            "Writing exemplo2.cu\n"
          ]
        }
      ]
    },
    {
      "cell_type": "code",
      "source": [
        "!nvcc -arch=sm_75 -std=c++14 exemplo2.cu -o exemplo2"
      ],
      "metadata": {
        "id": "Po9pAP-vinLZ"
      },
      "execution_count": 6,
      "outputs": []
    },
    {
      "cell_type": "code",
      "source": [
        "!./exemplo2"
      ],
      "metadata": {
        "colab": {
          "base_uri": "https://localhost:8080/"
        },
        "id": "xCP1Keo-ipLo",
        "outputId": "1b6f0669-31f7-4dda-f72c-1a78037564dc"
      },
      "execution_count": 7,
      "outputs": [
        {
          "output_type": "stream",
          "name": "stdout",
          "text": [
            "V1: 0 1 2 3 4 5 6 7 8 9 \n",
            "V2: 5.5 5.5 10 10 10 \n",
            "V3: 5.5 6.5 12 13 14 5 6 7 8 9 \n",
            "V4: 0 0.5 1 1.5 2 2.5 3 3.5 4 4.5 \n"
          ]
        }
      ]
    },
    {
      "cell_type": "markdown",
      "source": [
        "## Stocks Google"
      ],
      "metadata": {
        "id": "Bn17h691jZpi"
      }
    },
    {
      "cell_type": "code",
      "source": [
        "%%writefile stocks.cu\n",
        "#include <thrust/device_vector.h>   // Inclui a biblioteca Thrust para vetores na GPU\n",
        "#include <thrust/host_vector.h>     // Inclui a biblioteca Thrust para vetores na CPU\n",
        "#include <iostream>                 // Biblioteca padrão para entrada e saída de dados\n",
        "#include <chrono>                   // Biblioteca para medir o tempo de execução do código\n",
        "using namespace std;\n",
        "\n",
        "int main() {\n",
        "    int n = 2518;                   // Define o tamanho do vetor (2518 elementos)\n",
        "    double value = 0.0;             // Variável auxiliar para armazenar o valor lido da entrada\n",
        "    std::chrono::duration<double> diff; // Variável para armazenar a diferença de tempo calculada\n",
        "\n",
        "    // Marca o início da medição do tempo de leitura dos dados\n",
        "    auto leitura_i = std::chrono::steady_clock::now();\n",
        "\n",
        "    // Cria um vetor na CPU (host_vector) com n elementos, todos inicializados com 0\n",
        "    thrust::host_vector<double> host(n, 0);\n",
        "\n",
        "    // Loop para ler n valores da entrada padrão e armazená-los no vetor host\n",
        "    for (int i = 0; i < n; i++) {\n",
        "        cin >> value;              // Lê um valor da entrada padrão\n",
        "        host[i] = value;           // Armazena o valor lido no vetor host\n",
        "    }\n",
        "\n",
        "    // Marca o fim da medição do tempo de leitura dos dados\n",
        "    auto leitura_f = std::chrono::steady_clock::now();\n",
        "\n",
        "    // Calcula o tempo gasto na leitura dos dados\n",
        "    diff = leitura_f - leitura_i;\n",
        "\n",
        "    // Exibe o tempo de leitura em segundos\n",
        "    cout << \"Tempo de LEITURA (em segundos)  \" << diff.count() << endl;\n",
        "\n",
        "    // Marca o início da medição do tempo de cópia dos dados da CPU para a GPU\n",
        "    auto copia_i = std::chrono::steady_clock::now();\n",
        "\n",
        "    // Cria um vetor na GPU (device_vector) copiando os dados do vetor host da CPU\n",
        "    thrust::device_vector<double> dev(host);\n",
        "\n",
        "    // Marca o fim da medição do tempo de cópia dos dados\n",
        "    auto copia_f = std::chrono::steady_clock::now();\n",
        "\n",
        "    // Calcula o tempo gasto na cópia dos dados para a GPU\n",
        "    diff = copia_f - copia_i;\n",
        "\n",
        "    // Exibe o tempo de cópia em segundos\n",
        "    cout << \"Tempo de CÓPIA (em segundos)  \" << diff.count() << endl;\n",
        "\n",
        "    return 0;\n",
        "}"
      ],
      "metadata": {
        "colab": {
          "base_uri": "https://localhost:8080/"
        },
        "id": "lmbblfMNip5j",
        "outputId": "9334535d-b5a6-49c8-8da8-c43309bd29bc"
      },
      "execution_count": 14,
      "outputs": [
        {
          "output_type": "stream",
          "name": "stdout",
          "text": [
            "Overwriting stocks.cu\n"
          ]
        }
      ]
    },
    {
      "cell_type": "code",
      "source": [
        "!nvcc -arch=sm_70 -std=c++14 stocks.cu -o stocks"
      ],
      "metadata": {
        "id": "wLwFRVtjjbIe"
      },
      "execution_count": 15,
      "outputs": []
    },
    {
      "cell_type": "code",
      "source": [
        "  !./stocks < stocks-google.txt"
      ],
      "metadata": {
        "colab": {
          "base_uri": "https://localhost:8080/"
        },
        "id": "dkA3tr0HjcVb",
        "outputId": "ea150219-e772-4056-a04a-804fc7b86d34"
      },
      "execution_count": 16,
      "outputs": [
        {
          "output_type": "stream",
          "name": "stdout",
          "text": [
            "Tempo de LEITURA (em segundos)  0.000593141\n",
            "Tempo de CÓPIA (em segundos)  0.217349\n"
          ]
        }
      ]
    },
    {
      "cell_type": "markdown",
      "source": [
        "# Exercicios:"
      ],
      "metadata": {
        "id": "uc-axb39lO2T"
      }
    },
    {
      "cell_type": "markdown",
      "source": [
        "## Exercicio 1"
      ],
      "metadata": {
        "id": "7OJVb9EulSrd"
      }
    },
    {
      "cell_type": "code",
      "source": [
        "%%writefile ex1.cu\n",
        "#include <thrust/device_vector.h>   // Biblioteca Thrust para vetores na GPU\n",
        "#include <thrust/host_vector.h>     // Biblioteca Thrust para vetores na CPU\n",
        "#include <iostream>                 // Biblioteca para entrada e saída de dados\n",
        "#include <fstream>                  // Biblioteca para leitura de arquivos\n",
        "#include <chrono>                   // Biblioteca para medir o tempo de execução\n",
        "\n",
        "int main() {\n",
        "    // Abrir o arquivo que contém os preços das ações\n",
        "    std::ifstream file(\"stocks-google.txt\");\n",
        "\n",
        "    // Verificar se o arquivo foi aberto corretamente\n",
        "    if (!file.is_open()) {\n",
        "        std::cerr << \"Erro ao abrir o arquivo!\" << std::endl;\n",
        "        return -1;\n",
        "    }\n",
        "\n",
        "    // Vetor para armazenar os valores lidos do arquivo\n",
        "    thrust::host_vector<double> host;\n",
        "\n",
        "    // Variável auxiliar para armazenar cada valor lido do arquivo\n",
        "    double value;\n",
        "\n",
        "    // Início da medição do tempo de leitura dos dados\n",
        "    auto leitura_i = std::chrono::steady_clock::now();\n",
        "\n",
        "    // Ler todos os valores do arquivo e armazená-los no vetor host\n",
        "    while (file >> value) {\n",
        "        host.push_back(value);\n",
        "    }\n",
        "\n",
        "    // Fim da medição do tempo de leitura dos dados\n",
        "    auto leitura_f = std::chrono::steady_clock::now();\n",
        "\n",
        "    // Fechar o arquivo após a leitura\n",
        "    file.close();\n",
        "\n",
        "    // Calcular o tempo de leitura\n",
        "    std::chrono::duration<double> leitura_diff = leitura_f - leitura_i;\n",
        "    std::cout << \"Tempo de LEITURA (em segundos): \" << leitura_diff.count() << std::endl;\n",
        "\n",
        "    // Início da medição do tempo de cópia dos dados para a GPU\n",
        "    auto copia_i = std::chrono::steady_clock::now();\n",
        "\n",
        "    // Transferir os dados do host_vector (CPU) para o device_vector (GPU)\n",
        "    thrust::device_vector<double> dev(host);\n",
        "\n",
        "    // Fim da medição do tempo de cópia dos dados\n",
        "    auto copia_f = std::chrono::steady_clock::now();\n",
        "\n",
        "    // Calcular o tempo de cópia\n",
        "    std::chrono::duration<double> copia_diff = copia_f - copia_i;\n",
        "    std::cout << \"Tempo de CÓPIA (em segundos): \" << copia_diff.count() << std::endl;\n",
        "\n",
        "    return 0;\n",
        "}\n"
      ],
      "metadata": {
        "colab": {
          "base_uri": "https://localhost:8080/"
        },
        "id": "yQu56ofFjdSY",
        "outputId": "5c244426-c50f-48bc-998c-b283740e99e8"
      },
      "execution_count": 18,
      "outputs": [
        {
          "output_type": "stream",
          "name": "stdout",
          "text": [
            "Writing ex1.cu\n"
          ]
        }
      ]
    },
    {
      "cell_type": "code",
      "source": [
        "!nvcc -arch=sm_75 -std=c++14 ex1.cu -o ex1"
      ],
      "metadata": {
        "id": "NOs_Tk_ulmT2"
      },
      "execution_count": 19,
      "outputs": []
    },
    {
      "cell_type": "code",
      "source": [
        "!./ex1 < stocks-google.txt"
      ],
      "metadata": {
        "colab": {
          "base_uri": "https://localhost:8080/"
        },
        "id": "F2A_KUOolux_",
        "outputId": "d42f03c3-0b15-40e0-842e-6ca9342f8b6b"
      },
      "execution_count": 20,
      "outputs": [
        {
          "output_type": "stream",
          "name": "stdout",
          "text": [
            "Tempo de LEITURA (em segundos): 0.000500838\n",
            "Tempo de CÓPIA (em segundos): 0.196905\n"
          ]
        }
      ]
    },
    {
      "cell_type": "markdown",
      "source": [
        "## Exercicio 2"
      ],
      "metadata": {
        "id": "nEE4DBCUmMNG"
      }
    },
    {
      "cell_type": "code",
      "source": [
        "%%writefile ex2.cu\n",
        "#include <thrust/device_vector.h>   // Biblioteca Thrust para vetores na GPU\n",
        "#include <thrust/host_vector.h>     // Biblioteca Thrust para vetores na CPU\n",
        "#include <thrust/reduce.h>          // Biblioteca Thrust para operações de redução\n",
        "#include <thrust/extrema.h>         // Biblioteca Thrust para encontrar máximo e mínimo\n",
        "#include <iostream>                 // Biblioteca para entrada e saída de dados\n",
        "#include <fstream>                  // Biblioteca para leitura de arquivos\n",
        "#include <chrono>                   // Biblioteca para medir o tempo de execução\n",
        "\n",
        "int main() {\n",
        "    // Abrir o arquivo que contém os preços das ações\n",
        "    std::ifstream file(\"stocks-google.txt\");\n",
        "\n",
        "    // Verificar se o arquivo foi aberto corretamente\n",
        "    if (!file.is_open()) {\n",
        "        std::cerr << \"Erro ao abrir o arquivo!\" << std::endl;\n",
        "        return -1;\n",
        "    }\n",
        "\n",
        "    // Vetor para armazenar os valores lidos do arquivo\n",
        "    thrust::host_vector<double> host;\n",
        "\n",
        "    // Variável auxiliar para armazenar cada valor lido do arquivo\n",
        "    double value;\n",
        "\n",
        "    // Ler todos os valores do arquivo e armazená-los no vetor host\n",
        "    while (file >> value) {\n",
        "        host.push_back(value);\n",
        "    }\n",
        "\n",
        "    // Fechar o arquivo após a leitura\n",
        "    file.close();\n",
        "\n",
        "    // Transferir os dados do host_vector (CPU) para o device_vector (GPU)\n",
        "    thrust::device_vector<double> dev(host);\n",
        "\n",
        "    // --- Cálculo de preços médios e extremos ---\n",
        "\n",
        "    int total_dias = dev.size();\n",
        "    int ultimo_ano_dias = 365;  // Usaremos os últimos 365 dias\n",
        "\n",
        "    // 1. Preço médio total (soma de todos os elementos / número de elementos)\n",
        "    double soma_total = thrust::reduce(dev.begin(), dev.end(), 0.0, thrust::plus<double>());\n",
        "    double media_total = soma_total / total_dias;\n",
        "    std::cout << \"Preço médio total dos últimos 10 anos: \" << media_total << std::endl;\n",
        "\n",
        "    // 2. Preço médio dos últimos 365 dias\n",
        "    if (total_dias >= 365) {\n",
        "        double soma_ultimo_ano = thrust::reduce(dev.end() - ultimo_ano_dias, dev.end(), 0.0, thrust::plus<double>());\n",
        "        double media_ultimo_ano = soma_ultimo_ano / ultimo_ano_dias;\n",
        "        std::cout << \"Preço médio dos últimos 365 dias: \" << media_ultimo_ano << std::endl;\n",
        "    } else {\n",
        "        std::cout << \"Não há dados suficientes para calcular o preço médio dos últimos 365 dias.\" << std::endl;\n",
        "    }\n",
        "\n",
        "    // 3. Maior e menor preço total\n",
        "    auto max_total = thrust::max_element(dev.begin(), dev.end());\n",
        "    auto min_total = thrust::min_element(dev.begin(), dev.end());\n",
        "    std::cout << \"Maior preço total dos últimos 10 anos: \" << *max_total << std::endl;\n",
        "    std::cout << \"Menor preço total dos últimos 10 anos: \" << *min_total << std::endl;\n",
        "\n",
        "    // 4. Maior e menor preço dos últimos 365 dias\n",
        "    if (total_dias >= 365) {\n",
        "        auto max_ultimo_ano = thrust::max_element(dev.end() - ultimo_ano_dias, dev.end());\n",
        "        auto min_ultimo_ano = thrust::min_element(dev.end() - ultimo_ano_dias, dev.end());\n",
        "        std::cout << \"Maior preço dos últimos 365 dias: \" << *max_ultimo_ano << std::endl;\n",
        "        std::cout << \"Menor preço dos últimos 365 dias: \" << *min_ultimo_ano << std::endl;\n",
        "    } else {\n",
        "        std::cout << \"Não há dados suficientes para calcular os extremos dos últimos 365 dias.\" << std::endl;\n",
        "    }\n",
        "\n",
        "    return 0;\n",
        "}\n"
      ],
      "metadata": {
        "colab": {
          "base_uri": "https://localhost:8080/"
        },
        "id": "3jLEpuFRmLcP",
        "outputId": "5fdfe5d8-9492-4d5f-b374-f4b16538d969"
      },
      "execution_count": 21,
      "outputs": [
        {
          "output_type": "stream",
          "name": "stdout",
          "text": [
            "Writing ex2.cu\n"
          ]
        }
      ]
    },
    {
      "cell_type": "code",
      "source": [
        "!nvcc -arch=sm_75 -std=c++14 ex2.cu -o ex2"
      ],
      "metadata": {
        "id": "nBmS5btKmQ5T"
      },
      "execution_count": 22,
      "outputs": []
    },
    {
      "cell_type": "code",
      "source": [
        "!./ex2 < stocks-google.txt"
      ],
      "metadata": {
        "colab": {
          "base_uri": "https://localhost:8080/"
        },
        "id": "AdVZy6rNmT6V",
        "outputId": "fad812ce-d4cd-4a45-bba6-c054bd149444"
      },
      "execution_count": 23,
      "outputs": [
        {
          "output_type": "stream",
          "name": "stdout",
          "text": [
            "Preço médio total dos últimos 10 anos: 1580.08\n",
            "Preço médio dos últimos 365 dias: 1615.81\n",
            "Maior preço total dos últimos 10 anos: 2200\n",
            "Menor preço total dos últimos 10 anos: 1015.24\n",
            "Maior preço dos últimos 365 dias: 2200\n",
            "Menor preço dos últimos 365 dias: 1060.5\n"
          ]
        }
      ]
    },
    {
      "cell_type": "markdown",
      "source": [
        "## Exercicio 3"
      ],
      "metadata": {
        "id": "nzG0v6uImWUb"
      }
    },
    {
      "cell_type": "code",
      "source": [
        "%%writefile ex3.cu\n",
        "#include <thrust/device_vector.h>   // Biblioteca Thrust para vetores na GPU\n",
        "#include <thrust/host_vector.h>     // Biblioteca Thrust para vetores na CPU\n",
        "#include <thrust/transform.h>       // Biblioteca Thrust para transformar vetores\n",
        "#include <thrust/reduce.h>          // Biblioteca Thrust para operações de redução\n",
        "#include <thrust/functional.h>      // Operações como subtração\n",
        "#include <iostream>                 // Biblioteca para entrada e saída de dados\n",
        "#include <fstream>                  // Biblioteca para leitura de arquivos\n",
        "\n",
        "int main() {\n",
        "    // Abrir o arquivo que contém os preços das ações\n",
        "    std::ifstream file(\"stocks2.txt\");\n",
        "\n",
        "    // Verificar se o arquivo foi aberto corretamente\n",
        "    if (!file.is_open()) {\n",
        "        std::cerr << \"Erro ao abrir o arquivo!\" << std::endl;\n",
        "        return -1;\n",
        "    }\n",
        "\n",
        "    // Vetores para armazenar os preços da Apple e da Microsoft\n",
        "    thrust::host_vector<double> AAPL_prices;\n",
        "    thrust::host_vector<double> MSFT_prices;\n",
        "\n",
        "    double aapl_price, msft_price;\n",
        "\n",
        "    // Ler os dados do arquivo\n",
        "    while (file >> aapl_price) {\n",
        "        char comma; // Para ignorar a vírgula entre os valores\n",
        "        file >> comma >> msft_price;\n",
        "        AAPL_prices.push_back(aapl_price);\n",
        "        MSFT_prices.push_back(msft_price);\n",
        "    }\n",
        "\n",
        "    // Fechar o arquivo\n",
        "    file.close();\n",
        "\n",
        "    // Transferir os dados para a GPU\n",
        "    thrust::device_vector<double> AAPL_dev = AAPL_prices;\n",
        "    thrust::device_vector<double> MSFT_dev = MSFT_prices;\n",
        "\n",
        "    // Vetor para armazenar as diferenças entre os preços da Apple e Microsoft\n",
        "    thrust::device_vector<double> diff(AAPL_dev.size());\n",
        "\n",
        "    // Calcular a diferença ponto a ponto\n",
        "    thrust::transform(AAPL_dev.begin(), AAPL_dev.end(), MSFT_dev.begin(), diff.begin(), thrust::minus<double>());\n",
        "\n",
        "    // Calcular a soma das diferenças\n",
        "    double soma_diferencas = thrust::reduce(diff.begin(), diff.end(), 0.0, thrust::plus<double>());\n",
        "\n",
        "    // Calcular a média das diferenças\n",
        "    double media_diferencas = soma_diferencas / diff.size();\n",
        "\n",
        "    // Exibir a média das diferenças\n",
        "    std::cout << \"A diferença média entre os preços das ações da Apple e Microsoft é: \" << media_diferencas << std::endl;\n",
        "\n",
        "    return 0;\n",
        "}\n"
      ],
      "metadata": {
        "colab": {
          "base_uri": "https://localhost:8080/"
        },
        "id": "C3unR_BjmXZ_",
        "outputId": "d42d6343-eefe-419b-a242-271e4ecd38b8"
      },
      "execution_count": 30,
      "outputs": [
        {
          "output_type": "stream",
          "name": "stdout",
          "text": [
            "Overwriting ex3.cu\n"
          ]
        }
      ]
    },
    {
      "cell_type": "code",
      "source": [
        "!nvcc -arch=sm_75 -std=c++14 ex3.cu -o ex3"
      ],
      "metadata": {
        "id": "lSTgFOuMmzLB"
      },
      "execution_count": 31,
      "outputs": []
    },
    {
      "cell_type": "code",
      "source": [
        "!./ex3"
      ],
      "metadata": {
        "colab": {
          "base_uri": "https://localhost:8080/"
        },
        "id": "X6rTBlk1m1I5",
        "outputId": "6093e395-5e75-48b4-f3a1-1e36a4e1aa6b"
      },
      "execution_count": 32,
      "outputs": [
        {
          "output_type": "stream",
          "name": "stdout",
          "text": [
            "A diferença média entre os preços das ações da Apple e Microsoft é: -265.232\n"
          ]
        }
      ]
    }
  ]
}