{
  "cells": [
    {
      "cell_type": "markdown",
      "metadata": {
        "id": "YCrALvzjFdss"
      },
      "source": [
        "# Insper\n",
        "\n",
        "## Supercomputação - Avaliação Intermediária - 2º semestre de 2024\n",
        "\n",
        "#### SEU NOME: Gustavo Eliziario Stevenson de Oliveira\n",
        "\n",
        "**Regras da prova**:\n",
        "\n",
        "SOBRE HORÁRIOS:\n",
        "- A prova estará liberada no Blackboard das 07h30 às 23h59 de 01/outubro/2024 (horário de Brasília);\n",
        "- A prova tem duração aproximada de 03 horas (180 minutos);\n",
        "- O aluno poderá realizar a prova ao longo do dia, no(s) horário(s) e espaço(s) de tempo que melhor lhe convier. Ao iniciar a prova você não precisará ficar 3 horas seguidas na sua realização;\n",
        "\n",
        "SOBRE DÚVIDAS:\n",
        "- O professor NÃO estará disponível fisicamente no Insper. O aluno que quiser tirar dúvidas, poderá fazê-lo via grupo de WhatsApp da prova. O link é: https://chat.whatsapp.com/IcnoFr2LkON1iYltj9SgDY\n",
        "\n",
        "SOBRE SUBMISSÕES DA PROVA E DO PROJETO:\n",
        "- A submissão da prova deve ser feita impreterivelmente até às 23h59 de 01/outubro/2024 (horário de Brasília). NÃO serão aceitas submissões após este horário;\n",
        "- O aluno poderá fazer múltiplas submissões da prova. O sistema considerará a última submissão como oficial;\n",
        "- A submissão da prova pode ser a resolução no jupyter notebook exportado no Colab ou ZIP com arquivos “.cpp” devidamente sinalizados (a qual questão se referenciam);\n",
        "\n",
        "SOBRE A RESOLUÇÃO DA PROVA:\n",
        "- A interpretação do enunciado faz parte da avaliação;\n",
        "- É permitida a consulta ao material da disciplina (tudo o que estiver no repositório do Github da disciplina e no site https://liciascl.github.io/supercomp/. Isso também inclui suas próprias soluções aos exercícios de sala de aula, mas não inclui materiais não digitais, tampouco outros materiais além dos citados;\n",
        "- É permitido consultar a documentação de C++ nos sites oficiais e links extras dos próprios enunciados;\n",
        "- Seu pseudocódigo deve ser feito em Português, incluindo nomes de variáveis e comentários;\n",
        "\n",
        "\n",
        "SOBRE QUESTÕES DE ÉTICA E PLÁGIO:\n",
        "- A prova é individual. Qualquer consulta a outras pessoas durante a prova constitui violação do código de ética do Insper;\n",
        "- Qualquer tentativa de fraude, como trechos idênticos ou muito similares, implicará em NOTA ZERO na prova a todos os envolvidos, sem prejuízo de outras sanções;\n",
        "- Uso de Copilot ou ChatGPT ou correlatos para resolução pode implicar trechos similares entre alunos, caindo no item acima. Cuidado!\n",
        "\n",
        "**_Boa prova!_**\n"
      ]
    },
    {
      "cell_type": "markdown",
      "metadata": {
        "id": "b9WD4WL9-TCc"
      },
      "source": [
        "# [2,0 pontos] Questão 01 - Problema do Subconjunto de Soma\n",
        "\n",
        "**Contexto:**\n",
        "\n",
        "O Problema do Subconjunto de Soma é um desafio clássico em ciência da computação e matemática, que se enquadra na categoria de problemas NP-Completo. Ele questiona se, dado um conjunto de números inteiros e um valor alvo, existe um subconjunto desses números cuja soma é igual ao valor alvo. Apesar de sua simplicidade conceitual, resolver este problema pode se tornar computacionalmente intensivo à medida que o tamanho do conjunto aumenta, tornando abordagens exaustivas impraticáveis para grandes conjuntos. Portanto, heurísticas e métodos aproximados se tornam ferramentas valiosas para encontrar soluções em tempo razoável.\n",
        "\n",
        "**Questão:**\n",
        "\n",
        "Considere um conjunto \\( S = \\{s_1, s_2, ..., s_n\\} \\) de números inteiros positivos e um valor alvo \\( T \\). Seu objetivo é desenvolver uma heurística para determinar se existe um subconjunto de \\( S \\) cuja soma é igual a \\( T \\). Sua solução não precisa ser ótima, mas deve ser capaz de encontrar uma resposta em um tempo razoável, mesmo para grandes valores de \\( n \\).\n",
        "\n",
        "Para atingir este objetivo, você deve implementar o seguinte algoritmo heurístico em C++:\n",
        "\n",
        "1. **Pré-processamento:** Ordene os números em \\( S \\) em ordem decrescente. Este passo visa a maximizar a eficiência da sua heurística, permitindo que grandes somas sejam alcançadas rapidamente, potencialmente aproximando-se de \\( T \\) mais rapidamente.\n",
        "\n",
        "2. **Heurística de Aproximação:** Implemente uma função que percorra os números em \\( S \\) na ordem definida. Para cada número \\( s_i \\), decida se deve ou não incluí-lo no subconjunto candidato com base em uma regra heurística simples.\n",
        "\n",
        "3. **Verificação e Saída:** Se, ao final do processo, a soma dos números no subconjunto candidato for igual a \\( T \\), sua função deve retornar `true`, indicando que uma solução foi encontrada. Caso contrário, retorne `false`.\n",
        "\n",
        "**Pede-se**:\n",
        "1. Implemente o algoritmo heurístico descrito acima em C++. (entregue o código)\n",
        "2. Faça cenários de teste e comprove a corretude da sua solução.  \n",
        "3. Discuta a eficácia da sua heurística. Em que cenários ela pode falhar em encontrar um subconjunto existente que some \\( T \\)? (entregue sua resposta justificada)\n",
        "\n",
        "\n",
        "**DICA**:\n",
        "\n",
        "Uma possível assinatura da sua função é:\n",
        "```cpp\n",
        "bool subsetSum(const vector<int>& set, int sum);\n",
        "```\n",
        "\n",
        "\n",
        "\n"
      ]
    },
    {
      "cell_type": "markdown",
      "metadata": {
        "id": "OYSlHS46KNve"
      },
      "source": [
        "### Resposta:\n",
        "\n",
        "```cpp\n",
        "#include <iostream>\n",
        "#include <vector>\n",
        "#include <algorithm>  // Para sort\n",
        "#include <fstream>    // Para ler arquivos\n",
        "#include <chrono>     // Para medir o tempo de execução\n",
        "using namespace std;\n",
        "\n",
        "// Função para resolver o problema do subconjunto de soma usando heurística\n",
        "bool subsetSum(const vector<int>& set, int target) {\n",
        "    // Criar uma cópia do conjunto para não modificar o original\n",
        "    vector<int> sortedSet = set;\n",
        "    \n",
        "    // Passo 1: Ordenar os números em ordem decrescente\n",
        "    sort(sortedSet.begin(), sortedSet.end(), greater<int>());\n",
        "\n",
        "    // Variável para armazenar a soma do subconjunto candidato\n",
        "    int currentSum = 0;\n",
        "\n",
        "    // Passo 2: Heurística de aproximação\n",
        "    for (int num : sortedSet) {\n",
        "        if (currentSum + num <= target) {\n",
        "            currentSum += num;  // Incluir o número no subconjunto candidato\n",
        "        }\n",
        "\n",
        "        // Se atingimos o valor alvo, retornar true\n",
        "        if (currentSum == target) {\n",
        "            return true;\n",
        "        }\n",
        "    }\n",
        "\n",
        "    // Se não conseguimos atingir a soma exata, retornar false\n",
        "    return false;\n",
        "}\n",
        "\n",
        "int main(int argc, char* argv[]) {\n",
        "    if (argc != 2) {\n",
        "        cerr << \"Uso: \" << argv[0] << \" <arquivo de entrada>\" << endl;\n",
        "        return 1;\n",
        "    }\n",
        "\n",
        "    // Abrir o arquivo de entrada\n",
        "    ifstream inputFile(argv[1]);\n",
        "    if (!inputFile) {\n",
        "        cerr << \"Erro ao abrir o arquivo de entrada!\" << endl;\n",
        "        return 1;\n",
        "    }\n",
        "\n",
        "    // Ler os números do arquivo\n",
        "    vector<int> set;\n",
        "    int num;\n",
        "    while (inputFile >> num) {\n",
        "        set.push_back(num);\n",
        "    }\n",
        "\n",
        "    // Fechar o arquivo após a leitura\n",
        "    inputFile.close();\n",
        "\n",
        "    // O último número do arquivo será o valor alvo\n",
        "    int target = set.back();\n",
        "    set.pop_back();  // Remover o valor alvo do conjunto\n",
        "\n",
        "    // Medir o tempo de execução\n",
        "    auto start = chrono::steady_clock::now();\n",
        "\n",
        "    // Executar o algoritmo de subconjunto de soma\n",
        "    bool result = subsetSum(set, target);\n",
        "\n",
        "    auto end = chrono::steady_clock::now();\n",
        "    chrono::duration<double> elapsed_seconds = end - start;\n",
        "\n",
        "    // Exibir o resultado\n",
        "    if (result) {\n",
        "        cout << \"Há um subconjunto cuja soma é igual a \" << target << \".\" << endl;\n",
        "    } else {\n",
        "        cout << \"Não há subconjunto cuja soma seja igual a \" << target << \".\" << endl;\n",
        "    }\n",
        "\n",
        "    // Exibir o tempo de execução\n",
        "    cout << \"Tempo de execução: \" << elapsed_seconds.count() << \" segundos.\" << endl;\n",
        "\n",
        "    return 0;\n",
        "}\n",
        "\n",
        "```"
      ]
    },
    {
      "cell_type": "markdown",
      "metadata": {
        "id": "4-m4RfnfKNyC"
      },
      "source": [
        "### Codigo para criar uma base de testes:"
      ]
    },
    {
      "cell_type": "code",
      "execution_count": 1,
      "metadata": {},
      "outputs": [
        {
          "name": "stdout",
          "output_type": "stream",
          "text": [
            "Arquivo entrada_grande_tempo.txt gerado com sucesso!\n"
          ]
        }
      ],
      "source": [
        "def gerar_base_teste(n, valor_alvo, nome_arquivo=\"entrada_teste.txt\"):\n",
        "    with open(nome_arquivo, \"w\") as arquivo:\n",
        "        # Escreve os números de 1 até n-1\n",
        "        for i in range(1, n):\n",
        "            arquivo.write(f\"{i} \")\n",
        "        # Escreve o valor alvo no final\n",
        "        arquivo.write(f\"{valor_alvo}\\n\")\n",
        "    print(f\"Arquivo {nome_arquivo} gerado com sucesso!\")\n",
        "\n",
        "# Exemplo de uso: Gerar um arquivo de teste com números de 1 a 1.000.000 e valor alvo 450.000\n",
        "gerar_base_teste(1000000, 450000, \"entrada_grande_tempo.txt\")"
      ]
    },
    {
      "cell_type": "markdown",
      "metadata": {
        "id": "WLPOXHoDTfdU"
      },
      "source": [
        "\n",
        "---\n",
        "\n",
        "### Eficácia da Heurística\n",
        "\n",
        "A heurística implementada resolve o problema do **Subconjunto de Soma** de forma eficiente na maioria dos cenários. Ela ordena o conjunto de números em ordem decrescente e tenta somar os maiores números primeiro, a fim de se aproximar rapidamente do valor alvo \\( T \\). Se um subconjunto cuja soma seja igual a \\( T \\) for encontrado, a heurística retorna `true`; caso contrário, retorna `false`.\n",
        "\n",
        "#### Como a Heurística Funciona\n",
        "\n",
        "1. **Ordenação Decrescente**:\n",
        "   O algoritmo começa ordenando os números em \\( S \\) em ordem decrescente, permitindo que os maiores números sejam somados primeiro, o que pode ajudar a alcançar o valor alvo \\( T \\) de maneira mais rápida.\n",
        "\n",
        "2. **Soma Parcial**:\n",
        "   Após a ordenação, o algoritmo percorre o conjunto e vai somando os números ao subconjunto candidato, desde que a soma não ultrapasse \\( T \\). Se a soma exata for atingida, o algoritmo retorna `true`.\n",
        "\n",
        "3. **Verificação de Falha**:\n",
        "   Se, após percorrer todos os números, o valor \\( T \\) não for atingido, a heurística retorna `false`, indicando que não há um subconjunto cuja soma seja igual ao alvo.\n",
        "\n",
        "#### Cenários em que a Heurística Pode Falhar\n",
        "\n",
        "Embora seja eficiente, a heurística não é exaustiva, o que significa que pode não encontrar todas as soluções. Abaixo estão os cenários em que pode falhar:\n",
        "\n",
        "1. **Soma Total Menor que \\( T \\)**:\n",
        "   Se a soma de todos os números do conjunto for menor que \\( T \\), a heurística retornará `false`, pois não é possível atingir o valor alvo. \n",
        "   - **Exemplo**: No arquivo `entrada_grande_nao_resolve.txt`, o conjunto \\( S = \\{1000, 800, 500, 400, 300, 200, 100, 50, 20, 10, 5, 1\\} \\) tem uma soma total de \\( 3386 \\), que é menor que \\( T = 5000 \\), levando o algoritmo a retornar `false`.\n",
        "\n",
        "2. **Combinações Específicas Não Consideradas**:\n",
        "   A heurística pode falhar se a solução exigir uma combinação complexa de números menores que não são somados devido à abordagem gananciosa.\n",
        "   - **Exemplo**: Para \\( S = \\{1, 3, 5, 6, 7, 10\\} \\) e \\( T = 11 \\), a heurística pode falhar se começar somando \\( 7 + 3 \\), ignorando a solução correta \\( 10 + 1 \\).\n",
        "\n",
        "3. **Casos com Muitos Números Pequenos**:\n",
        "   Quando o conjunto contém muitos números pequenos e \\( T \\) é grande, a heurística pode falhar ao não considerar combinações corretas de números menores que poderiam atingir o valor alvo.\n",
        "\n",
        "### Reflexão sobre a Eficácia da Heurística\n",
        "\n",
        "A heurística é eficaz para a maioria dos casos, especialmente em situações que envolvem grandes números. Ela oferece tempos de execução extremamente rápidos, mesmo para conjuntos grandes, devido à sua abordagem gananciosa de tentar somar os maiores números primeiro. Contudo, em cenários que exigem combinações específicas de números menores, a heurística pode não encontrar a solução, retornando `false` incorretamente. Ainda assim, para a maioria dos cenários práticos, ela oferece uma solução rápida e eficiente.\n",
        "\n",
        "### Testes e Resultados\n",
        "\n",
        "Aqui estão os resultados obtidos para os diferentes testes:\n",
        "\n",
        "1. **Arquivo `entrada_grande_nao_resolve.txt`**:\n",
        "   - Conjunto: \\( \\{1000, 800, 500, 400, 300, 200, 100, 50, 20, 10, 5, 1\\} \\)\n",
        "   - Valor alvo: \\( T = 5000 \\)\n",
        "   - **Resultado**: \"Não há subconjunto cuja soma seja igual a 5000.\"\n",
        "   - **Tempo de execução**: 1.583e-06 segundos.\n",
        "\n",
        "2. **Arquivo `entrada_grande_resolve.txt`**:\n",
        "   - Conjunto: \\( \\{1000, 800, 500, 400, 300, 200, 100, 50, 20, 10, 5, 1\\} \\)\n",
        "   - Valor alvo: \\( T = 2156 \\)\n",
        "   - **Resultado**: \"Há um subconjunto cuja soma é igual a 2156.\"\n",
        "   - **Tempo de execução**: 1.604e-06 segundos.\n",
        "\n",
        "3. **Arquivo `entrada_grande_tempo.txt`**:\n",
        "   - Conjunto: Números de \\( 1 \\) a \\( 1.000.000 \\)\n",
        "   - Valor alvo: \\( T = 450000 \\)\n",
        "   - **Resultado**: \"Há um subconjunto cuja soma é igual a 450000.\"\n",
        "   - **Tempo de execução**: 0.0803478 segundos.\n",
        "\n",
        "4. **Arquivo `entrada_pequeno_resolve.txt`**:\n",
        "   - Conjunto: \\( \\{3, 34, 4, 12, 5, 2, 9\\} \\)\n",
        "   - Valor alvo: \\( T = 9 \\)\n",
        "   - **Resultado**: \"Há um subconjunto cuja soma é igual a 9.\"\n",
        "   - **Tempo de execução**: 1.266e-06 segundos.\n",
        "\n",
        "### Complexidade do Problema do Subconjunto de Soma\n",
        "\n",
        "O problema do **Subconjunto de Soma** é **NP-completo**, o que significa que sua solução exata tem complexidade **exponencial** com tempo de execução \\( O(2^n) \\), onde \\( n \\) é o número de elementos no conjunto.\n",
        "\n",
        "### Complexidade da Heurística\n",
        "\n",
        "A heurística implementada possui complexidade reduzida:\n",
        "1. **Ordenação Decrescente**: Tem complexidade \\( O(n \\log n) \\), onde \\( n \\) é o tamanho do conjunto.\n",
        "2. **Percurso Linear**: Após a ordenação, o algoritmo percorre o conjunto uma vez, com complexidade \\( O(n) \\).\n",
        "\n",
        "Portanto, a complexidade total da heurística é **\\( O(n \\log n) \\)**, o que é muito mais eficiente que a abordagem exata.\n",
        "\n",
        "### Conclusão\n",
        "\n",
        "A heurística oferece uma solução rápida para a maioria dos casos, com complexidade \\( O(n \\log n) \\), o que a torna adequada para conjuntos grandes. No entanto, ela pode falhar em encontrar soluções quando estas dependem de combinações complexas de números menores, ou quando a soma total do conjunto é insuficiente para alcançar o valor alvo \\( T \\).\n",
        "\n",
        "---\n"
      ]
    },
    {
      "cell_type": "markdown",
      "metadata": {
        "id": "d9jNw4n4-TFd"
      },
      "source": [
        "# [2,0 pontos] Questão 02 - Solução Ótima\n",
        "\n",
        "A solução ótima do problema anterior é verificar todos os subconjuntos possíveis dos números de ( S ), calcular a soma de cada um deles e verificar se alguma destas soma é igual ao valor buscado. Essa solução, embora simples, pode não escalar bem para grandes entradas.\n",
        "\n",
        "\n",
        "**Pede-se**:\n",
        "1. Escreva o código da solução ótima em C++ (você pode usar recursão ou não)\n",
        ";\n",
        "2. Gere a solução para 10 entradas distintas em ordens de grandeza diferentes (algumas entradas pequenas, algumas médias, algumas grandes);\n",
        "3. Compare o tempo de execução deste código nas 10 entradas. O comportamento está alinhado com o esperado? Justifique.\n"
      ]
    },
    {
      "cell_type": "markdown",
      "metadata": {
        "id": "CgilWhpOhUUk"
      },
      "source": [
        "### Resposta:\n",
        "    \n",
        "```cpp\n",
        "#include <iostream>\n",
        "#include <vector>\n",
        "#include <fstream>\n",
        "#include <chrono> // Para medir o tempo de execução\n",
        "\n",
        "using namespace std;\n",
        "\n",
        "// Função recursiva para verificar todos os subconjuntos possíveis\n",
        "bool subsetSum(const vector<int>& set, int n, int sum) {\n",
        "    // Caso base: Se a soma for 0, encontramos um subconjunto\n",
        "    if (sum == 0) {\n",
        "        return true;\n",
        "    }\n",
        "\n",
        "    // Se não houver mais elementos e a soma não for 0, retorne false\n",
        "    if (n == 0) {\n",
        "        return false;\n",
        "    }\n",
        "\n",
        "    // Se o último elemento é maior que a soma, ignorar este elemento\n",
        "    if (set[n - 1] > sum) {\n",
        "        return subsetSum(set, n - 1, sum);\n",
        "    }\n",
        "\n",
        "    // Verificar duas opções: incluir o último elemento ou não\n",
        "    return subsetSum(set, n - 1, sum) || subsetSum(set, n - 1, sum - set[n - 1]);\n",
        "}\n",
        "\n",
        "int main(int argc, char* argv[]) {\n",
        "    if (argc != 2) {\n",
        "        cerr << \"Uso: \" << argv[0] << \" <arquivo de entrada>\" << endl;\n",
        "        return 1;\n",
        "    }\n",
        "\n",
        "    // Abrir o arquivo de entrada\n",
        "    ifstream inputFile(argv[1]);\n",
        "    if (!inputFile) {\n",
        "        cerr << \"Erro ao abrir o arquivo de entrada!\" << endl;\n",
        "        return 1;\n",
        "    }\n",
        "\n",
        "    // Ler os números do arquivo\n",
        "    vector<int> set;\n",
        "    int num;\n",
        "    while (inputFile >> num) {\n",
        "        set.push_back(num);\n",
        "    }\n",
        "\n",
        "    // Fechar o arquivo após a leitura\n",
        "    inputFile.close();\n",
        "\n",
        "    // O último número do arquivo será o valor alvo\n",
        "    int target = set.back();\n",
        "    set.pop_back(); // Remover o valor alvo do conjunto\n",
        "\n",
        "    // Medir o tempo de execução\n",
        "    auto start = chrono::steady_clock::now();\n",
        "\n",
        "    // Executar o algoritmo de subconjunto de soma\n",
        "    bool result = subsetSum(set, set.size(), target);\n",
        "\n",
        "    auto end = chrono::steady_clock::now();\n",
        "    chrono::duration<double> elapsed_seconds = end - start;\n",
        "\n",
        "    // Exibir o resultado\n",
        "    if (result) {\n",
        "        cout << \"Há um subconjunto cuja soma é igual a \" << target << \".\" << endl;\n",
        "    } else {\n",
        "        cout << \"Não há subconjunto cuja soma seja igual a \" << target << \".\" << endl;\n",
        "    }\n",
        "\n",
        "    // Exibir o tempo de execução\n",
        "    cout << \"Tempo de execução: \" << elapsed_seconds.count() << \" segundos.\" << endl;\n",
        "\n",
        "    return 0;\n",
        "}\n",
        "\n",
        "```"
      ]
    },
    {
      "cell_type": "code",
      "execution_count": 3,
      "metadata": {
        "id": "kqUOVatIhUht"
      },
      "outputs": [
        {
          "name": "stdout",
          "output_type": "stream",
          "text": [
            "Arquivo pequena1.txt gerado com sucesso!\n",
            "Arquivo pequena2.txt gerado com sucesso!\n",
            "Arquivo pequena3.txt gerado com sucesso!\n",
            "Arquivo media1.txt gerado com sucesso!\n",
            "Arquivo media2.txt gerado com sucesso!\n",
            "Arquivo media3.txt gerado com sucesso!\n",
            "Arquivo grande1.txt gerado com sucesso!\n",
            "Arquivo grande2.txt gerado com sucesso!\n",
            "Arquivo grande3.txt gerado com sucesso!\n",
            "Arquivo grande4.txt gerado com sucesso!\n"
          ]
        }
      ],
      "source": [
        "import random\n",
        "\n",
        "# Função para gerar uma base de teste com valores randomizados\n",
        "def gerar_base_questao2_random(n, valor_alvo, nome_arquivo=\"questao2.txt\"):\n",
        "    with open(nome_arquivo, \"w\") as arquivo:\n",
        "        # Gerar uma lista de números aleatórios de 1 até n e embaralhá-la\n",
        "        numeros = random.sample(range(1, n + 1), n - 1)\n",
        "        for num in numeros:\n",
        "            arquivo.write(f\"{num} \")\n",
        "        # Escreve o valor alvo no final\n",
        "        arquivo.write(f\"{valor_alvo}\\n\")\n",
        "    print(f\"Arquivo {nome_arquivo} gerado com sucesso!\")\n",
        "\n",
        "# Pequenas entradas\n",
        "gerar_base_questao2_random(5, 3, \"pequena1.txt\")     # Conjunto de 1 a 4 randomizados e valor alvo 3\n",
        "gerar_base_questao2_random(10, 15, \"pequena2.txt\")   # Conjunto de 1 a 9 randomizados e valor alvo 15\n",
        "gerar_base_questao2_random(15, 12, \"pequena3.txt\")   # Conjunto de 1 a 14 randomizados e valor alvo 12\n",
        "\n",
        "# Médias entradas (na casa das centenas)\n",
        "gerar_base_questao2_random(100, 250, \"media1.txt\")    # Conjunto de 1 a 99 randomizados e valor alvo 250\n",
        "gerar_base_questao2_random(200, 400, \"media2.txt\")    # Conjunto de 1 a 199 randomizados e valor alvo 400\n",
        "gerar_base_questao2_random(300, 550, \"media3.txt\")    # Conjunto de 1 a 299 randomizados e valor alvo 550\n",
        "\n",
        "# Grandes entradas (na casa dos milhares)\n",
        "gerar_base_questao2_random(1000, 2000, \"grande1.txt\")  # Conjunto de 1 a 999 randomizados e valor alvo 2000\n",
        "gerar_base_questao2_random(2000, 3000, \"grande2.txt\")  # Conjunto de 1 a 1999 randomizados e valor alvo 3000\n",
        "gerar_base_questao2_random(3000, 5000, \"grande3.txt\")  # Conjunto de 1 a 2999 randomizados e valor alvo 5000\n",
        "gerar_base_questao2_random(5000, 8000, \"grande4.txt\")  # Conjunto de 1 a 4999 randomizados e valor alvo 8000\n"
      ]
    },
    {
      "cell_type": "markdown",
      "metadata": {
        "id": "xoRhqCGPhUmv"
      },
      "source": [
        "### Comparação do Tempo de Execução nas 10 Entradas:\n",
        "\n",
        "Os tempos de execução para as 10 entradas distintas foram os seguintes:\n",
        "\n",
        "1. **pequena1.txt (n = 5, T = 3)**: 2.92e-07 segundos\n",
        "2. **pequena2.txt (n = 10, T = 15)**: 3.24e-07 segundos\n",
        "3. **pequena3.txt (n = 15, T = 12)**: 2.93e-07 segundos\n",
        "\n",
        "4. **media1.txt (n = 100, T = 250)**: 2.794e-06 segundos\n",
        "5. **media2.txt (n = 200, T = 400)**: 2.594e-06 segundos\n",
        "6. **media3.txt (n = 300, T = 550)**: 4.947e-06 segundos\n",
        "\n",
        "7. **grande1.txt (n = 1000, T = 2000)**: 4.6462e-05 segundos\n",
        "8. **grande2.txt (n = 2000, T = 3000)**: 1.7278e-05 segundos\n",
        "9. **grande3.txt (n = 3000, T = 5000)**: 5.2281e-05 segundos\n",
        "10. **grande4.txt (n = 5000, T = 8000)**: 7.741e-05 segundos\n",
        "\n",
        "### Análise dos Resultados:\n",
        "\n",
        "O comportamento do tempo de execução está **alinhado com o esperado** devido à natureza **exponencial** da solução ótima para o **Problema do Subconjunto de Soma**, que tem complexidade \\( O(2^n) \\).\n",
        "\n",
        "- **Entradas Pequenas (n ≤ 15)**:\n",
        "  - Os tempos de execução para as três entradas pequenas (pequena1, pequena2 e pequena3) são extremamente rápidos, todos na ordem de \\( 10^{-7} \\) segundos. Isso ocorre porque, para entradas pequenas, o número de subconjuntos possíveis a serem verificados ainda é pequeno. Portanto, a solução ótima consegue verificar todas as combinações rapidamente.\n",
        "\n",
        "- **Entradas Médias (n = 100 a 300)**:\n",
        "  - O tempo de execução começa a aumentar de forma perceptível para as entradas médias, indo para a ordem de \\( 10^{-6} \\) segundos. Como o número de subconjuntos possíveis aumenta exponencialmente com \\( n \\), isso reflete o esperado comportamento de aumento exponencial do tempo de execução à medida que \\( n \\) cresce.\n",
        "\n",
        "- **Entradas Grandes (n ≥ 1000)**:\n",
        "  - Para as entradas grandes, o tempo de execução aumenta significativamente, alcançando a ordem de \\( 10^{-5} \\) a \\( 10^{-4} \\) segundos. Isso está alinhado com o comportamento exponencial esperado, uma vez que o número de subconjuntos a ser explorado cresce drasticamente com \\( n \\).\n",
        "\n",
        "### Justificativa do Comportamento:\n",
        "\n",
        "O **comportamento exponencial** da solução ótima está alinhado com o esperado devido à sua natureza de verificação **exaustiva** de todos os subconjuntos possíveis. Cada novo elemento adicionado ao conjunto **duplica** o número de subconjuntos possíveis, resultando em uma complexidade de \\( O(2^n) \\). Portanto, à medida que o valor de \\( n \\) aumenta, o tempo de execução cresce exponencialmente.\n",
        "\n",
        "- Para **entradas pequenas**, o número de subconjuntos a serem testados ainda é gerenciável, e o tempo de execução é praticamente desprezível.\n",
        "- Para **entradas médias**, o tempo de execução já começa a aumentar significativamente, refletindo o crescimento exponencial do número de subconjuntos.\n",
        "- Para **entradas grandes**, o tempo de execução cresce rapidamente, evidenciando o alto custo computacional de resolver o problema de forma exaustiva.\n",
        "\n",
        "Essa análise confirma que o comportamento observado está **de acordo com a complexidade teórica** e as expectativas para o problema de Subconjunto de Soma."
      ]
    },
    {
      "cell_type": "markdown",
      "metadata": {
        "id": "lxumkH8xhU0d"
      },
      "source": [
        "# [1,5 ponto] Questão 03 - Aleatorização\n",
        "\n",
        "Em sala de aula, nós implementamos diversas estratégias para a mochila\n",
        "binária. Explique a importância de buscar um balanço entre _exploration_ e _exploitation_. Dê um exemplo de como buscamos atingir _exploration_ e outro de como buscamos atingir _exploitation_ no Problema do Subconjunto de Soma. Elabore um pseudocódigo que combine tais estratégias e avalie criticamente sua efetividade."
      ]
    },
    {
      "cell_type": "code",
      "execution_count": null,
      "metadata": {
        "id": "zzPgLSAXhWqT"
      },
      "outputs": [],
      "source": []
    },
    {
      "cell_type": "code",
      "execution_count": null,
      "metadata": {
        "id": "8TL5WC_XhfSr"
      },
      "outputs": [],
      "source": []
    },
    {
      "cell_type": "code",
      "execution_count": null,
      "metadata": {
        "id": "DjxaXZxjqLtE"
      },
      "outputs": [],
      "source": []
    },
    {
      "cell_type": "markdown",
      "metadata": {
        "id": "hP79VcwHNsOu"
      },
      "source": [
        "# [2,0  pontos] Questão 04 - GPU e Thrust\n",
        "\n",
        "1.\tAcesse o link abaixo e faça uma cópia no seu Google Drive: https://colab.research.google.com/drive/14_EZNglXn2VXe3kpDW3XgEsRkB6R1jjp?usp=sharing\n",
        "2.\tComplete o código seguindo a especificação. ATENÇÃO: você provavelmente precisará complementar os imports para o código rodar!\n",
        "3.\tBaixe sua cópia do notebook preenchido e executado, e disponibilize junto com sua solução.\n",
        "\n",
        "_OBSERVAÇÃO_: recomendo o uso do Colab na realização da questão de GPU. Use implementação e teste local por conta e risco. =)\n"
      ]
    },
    {
      "cell_type": "code",
      "execution_count": null,
      "metadata": {
        "id": "y9hkglWLOacA"
      },
      "outputs": [],
      "source": []
    },
    {
      "cell_type": "code",
      "execution_count": null,
      "metadata": {
        "id": "kY7eeO48OaiI"
      },
      "outputs": [],
      "source": []
    },
    {
      "cell_type": "code",
      "execution_count": null,
      "metadata": {
        "id": "9bCumk5fOaoB"
      },
      "outputs": [],
      "source": []
    },
    {
      "cell_type": "markdown",
      "metadata": {
        "id": "Qa7y2wJn-zXz"
      },
      "source": [
        "# [1,5 pontos] Questão 05 - Busca global\n",
        "\n",
        "Um algoritmo de busca global, em termos gerais, é um algoritmo de otimização que procura encontrar a melhor solução possível para um problema dentro de um espaço de busca, considerando todas as possíveis soluções. Em outras palavras, ele tenta encontrar o máximo ou mínimo global de uma função objetivo em um domínio especificado.\n",
        "\n",
        "Em alguns problemas a \"busca global\" não se trata de uma otimização, mas de encontrar a única resposta correta possível. Por exemplo, o cálculo de Fibonacci é algoritmo que dado um número `N`, o `fib(N)` assume apenas um valor correto.\n",
        "\n",
        "Observe o código abaixo para cálculo do Fibonacci. Altere o programa para receber `N` como uma entrada, e rode o programa para alguns valores de N, tanto pequenos (abaixo de 30) quanto grandes (acima de 30 --- só não exagere!), comparando os tempos de execução.  \n",
        "\n",
        "Código-fonte:\n",
        "\n",
        "```cpp\n",
        "#include <iostream>\n",
        "\n",
        "int fib(int n) {\n",
        "    if (n <= 1) {\n",
        "        return n;\n",
        "    } else {\n",
        "        return fib(n - 1) + fib(n - 2);\n",
        "    }\n",
        "}\n",
        "\n",
        "int main() {\n",
        "    int n = 30; // Valor de n para calcular Fibonacci\n",
        "    int result = fib(n);\n",
        "    std::cout << \"Fibonacci de \" << n << \" é \" << result << std::endl;\n",
        "    return 0;\n",
        "}\n",
        "```\n",
        "\n",
        "Note que tempo de execução para esta implementação aumenta consideravelmente quando `N` cresce.\n",
        "\n",
        "**Pede-se**: Implemente  uma otimização para esse algoritmo de modo que sua implementação seja pela abordagem de memorização (*memoization*), ou seja, salvar cálculos já realizados para reaproveitá-los. Apresente código-fonte, resultados e compare os resultados de tempo de execução obtidos."
      ]
    },
    {
      "cell_type": "code",
      "execution_count": null,
      "metadata": {
        "id": "AaLQhYW_hi2j"
      },
      "outputs": [],
      "source": []
    },
    {
      "cell_type": "code",
      "execution_count": null,
      "metadata": {
        "id": "9v7FlTythi6j"
      },
      "outputs": [],
      "source": []
    },
    {
      "cell_type": "code",
      "execution_count": null,
      "metadata": {
        "id": "tioVOtYkfd11"
      },
      "outputs": [],
      "source": []
    },
    {
      "cell_type": "markdown",
      "metadata": {
        "id": "k7bbxYasZHhF"
      },
      "source": [
        "# [1.0 ponto] Questão 06 - Uso de Cluster em Supercomputação\n",
        "\n",
        "Esta disciplina estuda estratégias para resolver problemas complexos em tempo computacionalmente razoável.\n",
        "\n",
        "**Pede-se**:\n",
        "1. Qual é a importância de aliar estratégias de implementação (Software) com recursos computacionais disponíveis (Hardware) para melhor endereçamento do problema?\n",
        "2. Defina o que é Slurm e sua importância na programação paralela em larga escala.\n",
        "3. Considerando o job configurado pelo \".slurm\" abaixo, descreva quais recursos computacionais estão sendo solicitados ao Cluster, as limitações e condições de execução.\n",
        "\n",
        "```\n",
        "#!/bin/bash\n",
        "#SBATCH --job-name=job_paralelo\n",
        "#SBATCH --nodes=4\n",
        "#SBATCH --ntasks-per-node=8\n",
        "#SBATCH --time=02:00:00\n",
        "#SBATCH --partition=compute\n",
        "#SBATCH --output=resultado.out\n",
        "#SBATCH --error=erro.err\n",
        "\n",
        "# Carregar módulos necessários\n",
        "module load mpi\n",
        "\n",
        "# Executar o programa paralelo\n",
        "mpirun -np 32 ./meu_programa_paralelo\n",
        "```\n",
        "\n"
      ]
    },
    {
      "cell_type": "code",
      "execution_count": null,
      "metadata": {
        "id": "XuctGF5PZ-5H"
      },
      "outputs": [],
      "source": []
    },
    {
      "cell_type": "code",
      "execution_count": null,
      "metadata": {
        "id": "1UVijkXLei3u"
      },
      "outputs": [],
      "source": []
    },
    {
      "cell_type": "code",
      "execution_count": null,
      "metadata": {
        "id": "cyL3ilpkei6V"
      },
      "outputs": [],
      "source": []
    }
  ],
  "metadata": {
    "colab": {
      "provenance": []
    },
    "kernelspec": {
      "display_name": "Python 3",
      "name": "python3"
    },
    "language_info": {
      "codemirror_mode": {
        "name": "ipython",
        "version": 3
      },
      "file_extension": ".py",
      "mimetype": "text/x-python",
      "name": "python",
      "nbconvert_exporter": "python",
      "pygments_lexer": "ipython3",
      "version": "3.10.12"
    }
  },
  "nbformat": 4,
  "nbformat_minor": 0
}
