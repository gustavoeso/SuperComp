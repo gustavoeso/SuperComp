{
  "nbformat": 4,
  "nbformat_minor": 0,
  "metadata": {
    "colab": {
      "provenance": [],
      "gpuType": "T4"
    },
    "kernelspec": {
      "name": "python3",
      "display_name": "Python 3"
    },
    "language_info": {
      "name": "python"
    },
    "accelerator": "GPU"
  },
  "cells": [
    {
      "cell_type": "code",
      "execution_count": 29,
      "metadata": {
        "id": "L8meAvB4F991",
        "colab": {
          "base_uri": "https://localhost:8080/"
        },
        "outputId": "8013bd1f-fa42-4de3-cbf2-ef898e0318aa"
      },
      "outputs": [
        {
          "output_type": "stream",
          "name": "stdout",
          "text": [
            "Wed Sep 18 17:29:13 2024       \n",
            "+---------------------------------------------------------------------------------------+\n",
            "| NVIDIA-SMI 535.104.05             Driver Version: 535.104.05   CUDA Version: 12.2     |\n",
            "|-----------------------------------------+----------------------+----------------------+\n",
            "| GPU  Name                 Persistence-M | Bus-Id        Disp.A | Volatile Uncorr. ECC |\n",
            "| Fan  Temp   Perf          Pwr:Usage/Cap |         Memory-Usage | GPU-Util  Compute M. |\n",
            "|                                         |                      |               MIG M. |\n",
            "|=========================================+======================+======================|\n",
            "|   0  Tesla T4                       Off | 00000000:00:04.0 Off |                    0 |\n",
            "| N/A   42C    P8              10W /  70W |      0MiB / 15360MiB |      0%      Default |\n",
            "|                                         |                      |                  N/A |\n",
            "+-----------------------------------------+----------------------+----------------------+\n",
            "                                                                                         \n",
            "+---------------------------------------------------------------------------------------+\n",
            "| Processes:                                                                            |\n",
            "|  GPU   GI   CI        PID   Type   Process name                            GPU Memory |\n",
            "|        ID   ID                                                             Usage      |\n",
            "|=======================================================================================|\n",
            "|  No running processes found                                                           |\n",
            "+---------------------------------------------------------------------------------------+\n"
          ]
        }
      ],
      "source": [
        "!nvidia-smi"
      ]
    },
    {
      "cell_type": "markdown",
      "source": [
        "Aqui está o código para resolver os exercícios propostos na Aula 11, usando iteradores dinâmicos e funções customizadas com a biblioteca Thrust:\n",
        "\n",
        "### Parte 1: Cálculo da Variância usando Iteradores Dinâmicos\n",
        "\n",
        "A fórmula da variância é:\n",
        "\n",
        "$ {Variância} = \\frac{1}{n} \\sum_{i=0}^{n} (x_i - \\mu)^2 $\n",
        "\n",
        "Podemos usar o `thrust::constant_iterator` para gerar dinamicamente um vetor de médias, sem alocar espaço adicional na GPU.\n"
      ],
      "metadata": {
        "id": "wuTKr5tAINS8"
      }
    },
    {
      "cell_type": "code",
      "source": [
        "%%writefile exemplo1.cu\n",
        "#include <thrust/device_vector.h>\n",
        "#include <thrust/host_vector.h>\n",
        "#include <thrust/transform.h>\n",
        "#include <thrust/reduce.h>\n",
        "#include <thrust/iterator/constant_iterator.h>\n",
        "#include <iostream>\n",
        "#include <fstream>\n",
        "\n",
        "// Função customizada para calcular (x_i - mu)^2\n",
        "struct variance_op {\n",
        "    double mean;\n",
        "    variance_op(double m) : mean(m) {}\n",
        "\n",
        "    __host__ __device__ double operator()(const double& x) const {\n",
        "        return (x - mean) * (x - mean);\n",
        "    }\n",
        "};\n",
        "\n",
        "int main() {\n",
        "    // Abrir o arquivo que contém os preços das ações (stocks-google.txt)\n",
        "    std::ifstream file(\"stocks-google.txt\");\n",
        "    if (!file.is_open()) {\n",
        "        std::cerr << \"Erro ao abrir o arquivo!\" << std::endl;\n",
        "        return -1;\n",
        "    }\n",
        "\n",
        "    thrust::host_vector<double> host;\n",
        "    double value;\n",
        "    while (file >> value) {\n",
        "        host.push_back(value);\n",
        "    }\n",
        "    file.close();\n",
        "\n",
        "    // Exibir os primeiros 10 valores lidos do arquivo\n",
        "    std::cout << \"Primeiros 10 preços das ações:\" << std::endl;\n",
        "    for (int i = 0; i < 10 && i < host.size(); ++i) {\n",
        "        std::cout << host[i] << \" \";\n",
        "    }\n",
        "    std::cout << std::endl;\n",
        "\n",
        "    // Transferir os dados para a GPU\n",
        "    thrust::device_vector<double> stocks = host;\n",
        "\n",
        "    // Calcular a média\n",
        "    double sum = thrust::reduce(stocks.begin(), stocks.end(), 0.0, thrust::plus<double>());\n",
        "    double mean = sum / stocks.size();\n",
        "    std::cout << \"Média dos preços: \" << mean << std::endl;\n",
        "\n",
        "    // Usar iteradores dinâmicos para calcular a variância\n",
        "    thrust::device_vector<double> variance(stocks.size());\n",
        "    thrust::transform(stocks.begin(), stocks.end(), variance.begin(), variance_op(mean));\n",
        "\n",
        "    // Calcular a variância final\n",
        "    double variance_sum = thrust::reduce(variance.begin(), variance.end(), 0.0, thrust::plus<double>());\n",
        "    double variance_value = variance_sum / stocks.size();\n",
        "\n",
        "    std::cout << \"Variância das ações: \" << variance_value << std::endl;\n",
        "\n",
        "    return 0;\n",
        "}\n"
      ],
      "metadata": {
        "colab": {
          "base_uri": "https://localhost:8080/"
        },
        "id": "Ik7fxTnKHspD",
        "outputId": "3d7be61a-d01d-4b8f-e363-e8fea58be030"
      },
      "execution_count": 50,
      "outputs": [
        {
          "output_type": "stream",
          "name": "stdout",
          "text": [
            "Overwriting exemplo1.cu\n"
          ]
        }
      ]
    },
    {
      "cell_type": "code",
      "source": [
        "!nvcc -arch=sm_75 -std=c++14 exemplo1.cu -o exemplo1"
      ],
      "metadata": {
        "id": "i61OSJdCIeu-"
      },
      "execution_count": 51,
      "outputs": []
    },
    {
      "cell_type": "code",
      "source": [
        "!./exemplo1"
      ],
      "metadata": {
        "colab": {
          "base_uri": "https://localhost:8080/"
        },
        "id": "_mz06CxjJucE",
        "outputId": "9fec53cd-bca7-4b23-a4cd-c0c711adbaf8"
      },
      "execution_count": 52,
      "outputs": [
        {
          "output_type": "stream",
          "name": "stdout",
          "text": [
            "Primeiros 10 preços das ações:\n",
            "1015.24 1020.5 1022 1018.75 1025 1028.5 1031.75 1030 1035 1032.5 \n",
            "Média dos preços: 1580.08\n",
            "Variância das ações: 123792\n"
          ]
        }
      ]
    },
    {
      "cell_type": "markdown",
      "source": [
        "### Parte 2: Análise de Variação Diária dos Preços de Ações\n",
        "Agora vamos calcular a diferença diária entre os preços de um dia e o anterior."
      ],
      "metadata": {
        "id": "Fa_dP8SUJ3ju"
      }
    },
    {
      "cell_type": "code",
      "source": [
        "%%writefile exemplo2.cu\n",
        "#include <thrust/device_vector.h>\n",
        "#include <thrust/host_vector.h>\n",
        "#include <thrust/transform.h>\n",
        "#include <iostream>\n",
        "#include <fstream>\n",
        "\n",
        "// Função customizada para calcular a variação diária\n",
        "struct daily_gain {\n",
        "    __host__ __device__ double operator()(const double& x1, const double& x2) const {\n",
        "        return x2 - x1;\n",
        "    }\n",
        "};\n",
        "\n",
        "int main() {\n",
        "    // Abrir o arquivo que contém os preços das ações\n",
        "    std::ifstream file(\"stocks-google.txt\");\n",
        "    if (!file.is_open()) {\n",
        "        std::cerr << \"Erro ao abrir o arquivo!\" << std::endl;\n",
        "        return -1;\n",
        "    }\n",
        "\n",
        "    thrust::host_vector<double> host;\n",
        "    double value;\n",
        "    while (file >> value) {\n",
        "        host.push_back(value);\n",
        "    }\n",
        "    file.close();\n",
        "\n",
        "    // Exibir os primeiros 10 preços das ações\n",
        "    std::cout << \"Primeiros 10 preços das ações:\" << std::endl;\n",
        "    for (int i = 0; i < 10 && i < host.size(); ++i) {\n",
        "        std::cout << host[i] << \" \";\n",
        "    }\n",
        "    std::cout << std::endl;\n",
        "\n",
        "    // Transferir os dados para a GPU\n",
        "    thrust::device_vector<double> stocks = host;\n",
        "\n",
        "    // Criar o vetor para armazenar os ganhos diários\n",
        "    thrust::device_vector<double> ganho_diario(stocks.size() - 1);\n",
        "\n",
        "    // Calcular a diferença diária\n",
        "    thrust::transform(stocks.begin(), stocks.end() - 1, stocks.begin() + 1, ganho_diario.begin(), daily_gain());\n",
        "\n",
        "    // Exibir os primeiros 10 ganhos diários\n",
        "    std::cout << \"Primeiros 10 ganhos diários:\" << std::endl;\n",
        "    for (int i = 0; i < 10 && i < ganho_diario.size(); ++i) {\n",
        "        std::cout << ganho_diario[i] << \" \";\n",
        "    }\n",
        "    std::cout << std::endl;\n",
        "\n",
        "    // Salvar o vetor ganho_diario em um arquivo\n",
        "    std::ofstream output_file(\"ganho_diario.txt\");\n",
        "    for (int i = 0; i < ganho_diario.size(); ++i) {\n",
        "        output_file << ganho_diario[i] << \"\\n\";\n",
        "    }\n",
        "    output_file.close();\n",
        "\n",
        "    std::cout << \"Variação diária calculada e salva no arquivo.\" << std::endl;\n",
        "\n",
        "    return 0;\n",
        "}\n"
      ],
      "metadata": {
        "colab": {
          "base_uri": "https://localhost:8080/"
        },
        "id": "DOvSc4w3J6mj",
        "outputId": "46f0bf09-f077-4f97-e8a4-28e4c17a0e8d"
      },
      "execution_count": 53,
      "outputs": [
        {
          "output_type": "stream",
          "name": "stdout",
          "text": [
            "Overwriting exemplo2.cu\n"
          ]
        }
      ]
    },
    {
      "cell_type": "code",
      "source": [
        "!nvcc -arch=sm_75 -std=c++14 exemplo2.cu -o exemplo2"
      ],
      "metadata": {
        "id": "_1rcSIg4KARh"
      },
      "execution_count": 54,
      "outputs": []
    },
    {
      "cell_type": "code",
      "source": [
        "!./exemplo2"
      ],
      "metadata": {
        "colab": {
          "base_uri": "https://localhost:8080/"
        },
        "id": "a7eEblYhKB-E",
        "outputId": "c36940ef-650f-43da-d62c-ed8b960d92de"
      },
      "execution_count": 55,
      "outputs": [
        {
          "output_type": "stream",
          "name": "stdout",
          "text": [
            "Primeiros 10 preços das ações:\n",
            "1015.24 1020.5 1022 1018.75 1025 1028.5 1031.75 1030 1035 1032.5 \n",
            "Primeiros 10 ganhos diários:\n",
            "5.26 1.5 -3.25 6.25 3.5 3.25 -1.75 5 -2.5 5.5 \n",
            "Variação diária calculada e salva no arquivo.\n"
          ]
        }
      ]
    },
    {
      "cell_type": "markdown",
      "source": [
        "### Parte 3: Contagem de Dias com Aumento no Preço das Ações\n",
        "Agora, contamos quantas vezes o preço aumentou com thrust::count_if."
      ],
      "metadata": {
        "id": "e7aEETQaKORb"
      }
    },
    {
      "cell_type": "code",
      "source": [
        "%%writefile exemplo3.cu\n",
        "#include <thrust/device_vector.h>\n",
        "#include <thrust/count.h>\n",
        "#include <thrust/host_vector.h>\n",
        "#include <iostream>\n",
        "#include <fstream>\n",
        "\n",
        "// Função que verifica se o valor é positivo\n",
        "struct is_positive {\n",
        "    __host__ __device__ bool operator()(const double& x) const {\n",
        "        return x > 0;\n",
        "    }\n",
        "};\n",
        "\n",
        "int main() {\n",
        "    // Carregar o vetor ganho_diario do arquivo\n",
        "    thrust::host_vector<double> host;\n",
        "    std::ifstream input_file(\"ganho_diario.txt\");\n",
        "    double value;\n",
        "    while (input_file >> value) {\n",
        "        host.push_back(value);\n",
        "    }\n",
        "    input_file.close();\n",
        "\n",
        "    // Exibir os primeiros 10 ganhos diários\n",
        "    std::cout << \"Primeiros 10 ganhos diários carregados:\" << std::endl;\n",
        "    for (int i = 0; i < 10 && i < host.size(); ++i) {\n",
        "        std::cout << host[i] << \" \";\n",
        "    }\n",
        "    std::cout << std::endl;\n",
        "\n",
        "    // Transferir para a GPU\n",
        "    thrust::device_vector<double> ganho_diario = host;\n",
        "\n",
        "    // Contar quantos dias tiveram aumento no preço\n",
        "    int count = thrust::count_if(ganho_diario.begin(), ganho_diario.end(), is_positive());\n",
        "\n",
        "    std::cout << \"Número de dias com aumento no preço: \" << count << std::endl;\n",
        "\n",
        "    return 0;\n",
        "}\n"
      ],
      "metadata": {
        "colab": {
          "base_uri": "https://localhost:8080/"
        },
        "id": "f3z-vMPIKFCa",
        "outputId": "08eae968-f850-4391-9578-93d1ff3d0b2a"
      },
      "execution_count": 56,
      "outputs": [
        {
          "output_type": "stream",
          "name": "stdout",
          "text": [
            "Overwriting exemplo3.cu\n"
          ]
        }
      ]
    },
    {
      "cell_type": "code",
      "source": [
        "!nvcc -arch=sm_75 -std=c++14 exemplo3.cu -o exemplo3"
      ],
      "metadata": {
        "id": "pQVbcADdKWqr"
      },
      "execution_count": 57,
      "outputs": []
    },
    {
      "cell_type": "code",
      "source": [
        "!./exemplo3"
      ],
      "metadata": {
        "colab": {
          "base_uri": "https://localhost:8080/"
        },
        "id": "_52dP4kRKaBX",
        "outputId": "ef391673-a51f-4af6-899b-e179c65fbe9f"
      },
      "execution_count": 58,
      "outputs": [
        {
          "output_type": "stream",
          "name": "stdout",
          "text": [
            "Primeiros 10 ganhos diários carregados:\n",
            "5.26 1.5 -3.25 6.25 3.5 3.25 -1.75 5 -2.5 5.5 \n",
            "Número de dias com aumento no preço: 3056\n"
          ]
        }
      ]
    },
    {
      "cell_type": "markdown",
      "source": [
        "### Parte 4: Cálculo do Aumento Médio nos Dias em que o Preço Subiu\n",
        "Continuando com o mesmo conceito, carregue o vetor ganho_diario e prossiga com o cálculo do aumento médio."
      ],
      "metadata": {
        "id": "uNpHfKIuMips"
      }
    },
    {
      "cell_type": "code",
      "source": [
        "%%writefile parte4.cu\n",
        "#include <thrust/device_vector.h>\n",
        "#include <thrust/replace.h>\n",
        "#include <thrust/reduce.h>\n",
        "#include <thrust/count.h>\n",
        "#include <thrust/host_vector.h>\n",
        "#include <iostream>\n",
        "#include <fstream>\n",
        "\n",
        "// Função que verifica se o valor é positivo\n",
        "struct is_positive {\n",
        "    __host__ __device__ bool operator()(const double& x) const {\n",
        "        return x > 0;\n",
        "    }\n",
        "};\n",
        "\n",
        "int main() {\n",
        "    // Carregar o vetor ganho_diario do arquivo\n",
        "    thrust::host_vector<double> host;\n",
        "    std::ifstream input_file(\"ganho_diario.txt\");\n",
        "    double value;\n",
        "    while (input_file >> value) {\n",
        "        host.push_back(value);\n",
        "    }\n",
        "    input_file.close();\n",
        "\n",
        "    // Exibir os primeiros 10 ganhos diários carregados\n",
        "    std::cout << \"Primeiros 10 ganhos diários carregados:\" << std::endl;\n",
        "    for (int i = 0; i < 10 && i < host.size(); ++i) {\n",
        "        std::cout << host[i] << \" \";\n",
        "    }\n",
        "    std::cout << std::endl;\n",
        "\n",
        "    // Transferir para a GPU\n",
        "    thrust::device_vector<double> ganho_diario = host;\n",
        "\n",
        "    // Substituir valores negativos por zero\n",
        "    thrust::replace_if(ganho_diario.begin(), ganho_diario.end(), thrust::placeholders::_1 < 0, 0.0);\n",
        "\n",
        "    // Calcular a soma dos ganhos\n",
        "    double total_gain = thrust::reduce(ganho_diario.begin(), ganho_diario.end(), 0.0, thrust::plus<double>());\n",
        "    std::cout << \"Soma dos ganhos nos dias com aumento: \" << total_gain << std::endl;\n",
        "\n",
        "    // Calcular o número de dias de aumento\n",
        "    int count = thrust::count_if(ganho_diario.begin(), ganho_diario.end(), is_positive());\n",
        "    std::cout << \"Número de dias com aumento no preço: \" << count << std::endl;\n",
        "\n",
        "    // Calcular o aumento médio\n",
        "    double average_gain = count > 0 ? total_gain / count : 0.0;\n",
        "    std::cout << \"Aumento médio nos dias de aumento: \" << average_gain << std::endl;\n",
        "\n",
        "    return 0;\n",
        "}\n"
      ],
      "metadata": {
        "colab": {
          "base_uri": "https://localhost:8080/"
        },
        "id": "aNBYyaGHMf8J",
        "outputId": "69daf6c9-b86f-4197-e3df-3c93e42f67ca"
      },
      "execution_count": 59,
      "outputs": [
        {
          "output_type": "stream",
          "name": "stdout",
          "text": [
            "Overwriting parte4.cu\n"
          ]
        }
      ]
    },
    {
      "cell_type": "code",
      "source": [
        "!nvcc -arch=sm_75 -std=c++14 parte4.cu -o parte4"
      ],
      "metadata": {
        "id": "jkBEg2JeMpBB"
      },
      "execution_count": 60,
      "outputs": []
    },
    {
      "cell_type": "code",
      "source": [
        "!./parte4"
      ],
      "metadata": {
        "colab": {
          "base_uri": "https://localhost:8080/"
        },
        "id": "buKCrMpKMvtk",
        "outputId": "54d488c5-3d4c-4797-c30b-0057ef03c71c"
      },
      "execution_count": 61,
      "outputs": [
        {
          "output_type": "stream",
          "name": "stdout",
          "text": [
            "Primeiros 10 ganhos diários carregados:\n",
            "5.26 1.5 -3.25 6.25 3.5 3.25 -1.75 5 -2.5 5.5 \n",
            "Soma dos ganhos nos dias com aumento: 9634.08\n",
            "Número de dias com aumento no preço: 3056\n",
            "Aumento médio nos dias de aumento: 3.15251\n"
          ]
        }
      ]
    },
    {
      "cell_type": "markdown",
      "source": [
        "### Discussão de Resultados\n",
        "\n",
        "Ao longo dos exercícios, exploramos a eficiência do uso da GPU para cálculos de variância, variação diária, contagem de dias com aumento de preço, e o cálculo do aumento médio em dias positivos. Aqui estão as principais considerações baseadas nos resultados obtidos:\n",
        "\n",
        "#### **Parte 1: Cálculo da Variância**\n",
        "- **Média dos preços:** 1580.08\n",
        "- **Variância:** 123792\n",
        "- **Primeiros 10 preços das ações:** A amostra inicial mostra variações menores entre dias consecutivos. A média de 1580.08 está alinhada com preços de grandes empresas, como Google.\n",
        "  \n",
        "O cálculo da variância envolveu a subtração da média de cada valor e o cálculo de seu quadrado. Com iteradores dinâmicos (`thrust::constant_iterator`), evitamos alocar um vetor adicional na GPU para armazenar as médias repetidas. A GPU foi eficiente nesse cenário porque operamos sobre uma quantidade considerável de dados, e a variância foi calculada rapidamente.\n",
        "\n",
        "#### **Parte 2: Análise de Variação Diária dos Preços**\n",
        "- **Primeiros 10 ganhos diários:**\n",
        "  - Alguns dias apresentam ganhos consideráveis, como 5.26, 6.25, e 5.5, enquanto outros tiveram quedas, como -3.25 e -1.75.\n",
        "  \n",
        "A operação de calcular a diferença entre dias consecutivos foi implementada eficientemente com `thrust::transform`. O uso da GPU acelerou o processamento das variações diárias, uma tarefa que envolve muitos cálculos simples, mas que é intensiva em termos de dados quando lidamos com séries temporais longas (3520 registros).\n",
        "\n",
        "#### **Parte 3: Contagem de Dias com Aumento**\n",
        "- **Número de dias com aumento no preço:** 3056 de 3520.\n",
        "  \n",
        "Essa etapa utilizou `thrust::count_if` para contar quantos dias tiveram aumento de preço. O número elevado de dias com ganhos (3056) demonstra que, ao longo do período, as ações se valorizaram frequentemente. A função customizada para verificar valores positivos é leve, e a GPU conseguiu processar essa tarefa rapidamente devido ao paralelismo em massa oferecido por Thrust.\n",
        "\n",
        "#### **Parte 4: Cálculo do Aumento Médio**\n",
        "- **Soma dos ganhos nos dias com aumento:** 9634.08\n",
        "- **Aumento médio nos dias de aumento:** 3.15251\n",
        "  \n",
        "Após substituir valores negativos por zero com `thrust::replace_if`, somamos os valores restantes para obter a soma total dos ganhos nos dias de aumento e dividimos pelo número de dias com aumento. O aumento médio de 3.15 é consistente com o que esperamos de variações diárias em ações de grandes empresas. O paralelismo massivo da GPU foi útil para essa substituição e soma eficientes.\n",
        "\n",
        "### Reflexão sobre o Uso da GPU\n",
        "O uso da GPU foi essencial para otimizar os cálculos envolvendo séries temporais longas, como no caso dos dados diários de preços de ações. Operações que envolvem muitos cálculos simples, como:\n",
        "- **Cálculo da variância**, que requer múltiplas operações matemáticas sobre cada valor;\n",
        "- **Diferenças diárias**, que processam milhares de registros de uma vez;\n",
        "- **Contagens condicionais** e **substituições**, que lidam com verificações em grandes volumes de dados.\n",
        "\n",
        "Essas operações foram aceleradas consideravelmente pela arquitetura paralela da GPU, principalmente porque Thrust permite abstrair a complexidade de programação CUDA, proporcionando um fluxo mais simples e eficiente.\n",
        "\n",
        "#### **Eficiência de Iteradores Dinâmicos e Transformações**\n",
        "Os iteradores dinâmicos (como o `constant_iterator`) evitaram alocação de memória desnecessária, o que reduz o uso de memória e aumenta a eficiência geral. Funções como `thrust::transform` e `thrust::reduce` demonstraram o quão bem a GPU pode lidar com grandes volumes de dados, minimizando o tempo de execução.\n",
        "\n",
        "### Considerações Finais\n",
        "A execução na GPU foi justificada pelo volume de dados e pela necessidade de cálculos repetitivos. Para um dataset como o de preços diários de ações, o uso da GPU demonstrou ser uma estratégia eficiente em termos de tempo de execução e uso de memória, particularmente quando são aplicados iteradores dinâmicos e funções de transformação."
      ],
      "metadata": {
        "id": "6VhbOuefPUhi"
      }
    }
  ]
}